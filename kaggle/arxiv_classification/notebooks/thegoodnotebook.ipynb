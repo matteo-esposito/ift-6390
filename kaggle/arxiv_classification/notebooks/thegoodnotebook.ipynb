{
 "cells": [
  {
   "cell_type": "markdown",
   "metadata": {},
   "source": [
    "## Next Step: Use whole training set for text_clf, dont check valid"
   ]
  },
  {
   "cell_type": "code",
   "execution_count": 28,
   "metadata": {
    "collapsed": false,
    "jupyter": {
     "outputs_hidden": false
    }
   },
   "outputs": [],
   "source": [
    "def load_data():\n",
    "    \"\"\"Loads data from hardcoded directory\"\"\"\n",
    "    train = pd.read_csv(\"~/projects/fundamentals-of-ml/kaggle/arxiv_classification/data/train.csv\")\n",
    "    test = pd.read_csv(\"~/projects/fundamentals-of-ml/kaggle/arxiv_classification/data/test.csv\")\n",
    "    return train, test\n",
    "\n",
    "def split_training_set(df, ratio=0.70):\n",
    "    \"\"\"Splits training set into train and validation at a ratio of 70/30\"\"\"\n",
    "    df.sample(frac=1)\n",
    "    train = df[:int(ratio*df.shape[0])]\n",
    "    validation = df[int(ratio*df.shape[0]):]\n",
    "    return train, validation"
   ]
  },
  {
   "cell_type": "code",
   "execution_count": 29,
   "metadata": {},
   "outputs": [],
   "source": [
    "import pandas as pd\n",
    "import re\n",
    "import nltk\n",
    "from nltk.corpus import stopwords"
   ]
  },
  {
   "cell_type": "code",
   "execution_count": 30,
   "metadata": {},
   "outputs": [],
   "source": [
    "# Processed data\n",
    "# train = pd.read_csv(\"data/processed_train.csv\")\n",
    "# test = pd.read_csv(\"data/processed_test.csv\")\n",
    "train, test = load_data()\n",
    "train, valid = split_training_set(train)"
   ]
  },
  {
   "cell_type": "code",
   "execution_count": 31,
   "metadata": {},
   "outputs": [],
   "source": [
    "mystopwords = []\n",
    "\n",
    "REPLACE_BY_SPACE_RE = re.compile('[/(){}\\[\\]\\|@,;]')\n",
    "BAD_SYMBOLS_RE = re.compile('[^0-9a-z #+_]')\n",
    "STOPWORDS = set(list(stopwords.words('english')) + list(mystopwords))\n",
    "\n",
    "def clean_text(text):\n",
    "    \"\"\"\n",
    "        text: a string\n",
    "        \n",
    "        return: modified initial string\n",
    "    \"\"\"\n",
    "    text = text.lower() # lowercase text\n",
    "    text = REPLACE_BY_SPACE_RE.sub(' ', text) # replace REPLACE_BY_SPACE_RE symbols by space in text. substitute the matched string in REPLACE_BY_SPACE_RE with space.\n",
    "    text = BAD_SYMBOLS_RE.sub('', text) # remove symbols which are in BAD_SYMBOLS_RE from text. substitute the matched string in BAD_SYMBOLS_RE with nothing. \n",
    "    text = ' '.join(word for word in text.split() if word not in STOPWORDS) # remove stopwords from text\n",
    "    return text"
   ]
  },
  {
   "cell_type": "code",
   "execution_count": 32,
   "metadata": {},
   "outputs": [],
   "source": [
    "# %%time\n",
    "train['Abstract'] = train['Abstract'].apply(clean_text)\n",
    "test['Abstract'] = test['Abstract'].apply(clean_text)\n",
    "valid['Abstract'] = valid['Abstract'].apply(clean_text)"
   ]
  },
  {
   "cell_type": "code",
   "execution_count": 33,
   "metadata": {
    "collapsed": false,
    "jupyter": {
     "outputs_hidden": false
    }
   },
   "outputs": [
    {
     "data": {
      "text/plain": [
       "(5250, 71187)"
      ]
     },
     "execution_count": 33,
     "metadata": {},
     "output_type": "execute_result"
    }
   ],
   "source": [
    "# Extracting features from text files\n",
    "from sklearn.feature_extraction.text import CountVectorizer\n",
    "count_vect = CountVectorizer()\n",
    "X_train_counts = count_vect.fit_transform(train['Abstract'])\n",
    "X_train_counts.shape\n",
    "\n",
    "# TF-IDF\n",
    "from sklearn.feature_extraction.text import TfidfTransformer\n",
    "tfidf_transformer = TfidfTransformer()\n",
    "X_train_tfidf = tfidf_transformer.fit_transform(X_train_counts)\n",
    "X_train_tfidf.shape"
   ]
  },
  {
   "cell_type": "code",
   "execution_count": 34,
   "metadata": {},
   "outputs": [],
   "source": [
    "# Machine Learning\n",
    "# Training Naive Bayes (NB) classifier on training data.\n",
    "from sklearn.naive_bayes import MultinomialNB\n",
    "clf = MultinomialNB().fit(X_train_tfidf, train['Category'])"
   ]
  },
  {
   "cell_type": "code",
   "execution_count": 35,
   "metadata": {
    "collapsed": false,
    "jupyter": {
     "outputs_hidden": false
    }
   },
   "outputs": [
    {
     "name": "stdout",
     "output_type": "stream",
     "text": [
      "0.7715555555555556\n"
     ]
    }
   ],
   "source": [
    "# Building a pipeline: We can write less code and do all of the above, by building a pipeline as follows:\n",
    "# The names ‘vect’ , ‘tfidf’ and ‘clf’ are arbitrary but will be used later.\n",
    "# We will be using the 'text_clf' going forward.\n",
    "from sklearn.pipeline import Pipeline\n",
    "\n",
    "# for a in [0.01, 0.05, 0.1, 0.15, 0.3, 0.5, 1]: # 0.15 then 0.3\n",
    "text_clf = Pipeline([('vect', CountVectorizer()), \n",
    "                     ('tfidf', TfidfTransformer()), \n",
    "                     ('clf', MultinomialNB(alpha=0.15))])\n",
    "text_clf = text_clf.fit(train['Abstract'], train['Category'])\n",
    "\n",
    "## Performance of NB Classifier\n",
    "import numpy as np\n",
    "predicted = text_clf.predict(valid['Abstract'])\n",
    "print(np.mean(predicted == valid['Category']))"
   ]
  },
  {
   "cell_type": "code",
   "execution_count": 36,
   "metadata": {},
   "outputs": [],
   "source": [
    "# # Make submission\n",
    "# predicted = text_clf.predict(test['Abstract'])\n",
    "# test['Category'] = predicted\n",
    "# test.drop(columns=['Abstract'], inplace=True)\n",
    "# test.drop(columns=['Unnamed: 0'], inplace=True)\n",
    "# test.to_csv(\"submissions/sklearn_multinomial_nb_alpha03.csv\", index=False)"
   ]
  },
  {
   "cell_type": "markdown",
   "metadata": {},
   "source": [
    "## SVM"
   ]
  },
  {
   "cell_type": "code",
   "execution_count": 40,
   "metadata": {
    "collapsed": false,
    "jupyter": {
     "outputs_hidden": false
    }
   },
   "outputs": [
    {
     "name": "stdout",
     "output_type": "stream",
     "text": [
      "5, 0.001 =>> 0.7435555555555555\n",
      "5, 0.005 =>> 0.7448888888888889\n",
      "5, 0.0075 =>> 0.7448888888888889\n",
      "5, 0.01 =>> 0.744\n",
      "5, 0.02 =>> 0.7435555555555555\n",
      "10, 0.001 =>> 0.7448888888888889\n",
      "10, 0.005 =>> 0.7417777777777778\n",
      "10, 0.0075 =>> 0.7404444444444445\n",
      "10, 0.01 =>> 0.7431111111111111\n",
      "10, 0.02 =>> 0.7413333333333333\n",
      "20, 0.001 =>> 0.7448888888888889\n",
      "20, 0.005 =>> 0.7417777777777778\n",
      "20, 0.0075 =>> 0.7404444444444445\n",
      "20, 0.01 =>> 0.7431111111111111\n",
      "20, 0.02 =>> 0.7413333333333333\n",
      "50, 0.001 =>> 0.7448888888888889\n",
      "50, 0.005 =>> 0.7417777777777778\n",
      "50, 0.0075 =>> 0.7404444444444445\n",
      "50, 0.01 =>> 0.7431111111111111\n",
      "50, 0.02 =>> 0.7413333333333333\n"
     ]
    }
   ],
   "source": [
    "# Training Support Vector Machines - SVM and calculating its performance\n",
    "import numpy as np\n",
    "import pandas as pd\n",
    "from sklearn.pipeline import Pipeline\n",
    "from sklearn.linear_model import SGDClassifier\n",
    "\n",
    "for itera in [5, 10, 20, 50]:\n",
    "    for a in [0.001, 0.005, 0.0075, 0.01, 0.02]:\n",
    "        text_clf_svm = Pipeline([('vect', CountVectorizer()), ('tfidf', TfidfTransformer()),\n",
    "                                 ('clf-svm', SGDClassifier(loss='hinge', penalty='l2',alpha=a, max_iter=itera, random_state=42))])\n",
    "\n",
    "        text_clf_svm = text_clf_svm.fit(train['Abstract'], train['Category'])\n",
    "        predicted_svm = text_clf_svm.predict(valid['Abstract'])\n",
    "        print(f\"{itera}, {a} =>> {np.mean(predicted_svm == valid['Category'])}\")"
   ]
  },
  {
   "cell_type": "code",
   "execution_count": 47,
   "metadata": {},
   "outputs": [],
   "source": [
    "d = {\"Max_iter\": [5,5,5,5,5,10,10,10,10,10,20,20,20,20,20,50,50,50,50,50],\n",
    "\t\"Alpha\": [0.001, 0.005, 0.0075, 0.01, 0.02,0.001, 0.005, 0.0075, 0.01, 0.02,0.001, 0.005, 0.0075, 0.01, 0.02, 0.001, 0.005, 0.0075, 0.01, 0.02],\n",
    "\t\"Accuracy\": [0.7435555555555555, 0.7448888888888889, 0.7448888888888889, 0.744, 0.7435555555555555, \n",
    "               0.7448888888888889, 0.7417777777777778, 0.7404444444444445, 0.7431111111111111, 0.7413333333333333, \n",
    "               0.7448888888888889, 0.7417777777777778, 0.7404444444444445, 0.7431111111111111, 0.7413333333333333, \n",
    "               0.7448888888888889, 0.7417777777777778, 0.7404444444444445, 0.7431111111111111, 0.7413333333333333]\n",
    "\t}\n",
    "df=pd.DataFrame(data=d)"
   ]
  },
  {
   "cell_type": "code",
   "execution_count": 59,
   "metadata": {},
   "outputs": [
    {
     "data": {
      "image/png": "[encoded data removed]",
      "text/plain": [
       "<Figure size 720x504 with 1 Axes>"
      ]
     },
     "metadata": {},
     "output_type": "display_data"
    }
   ],
   "source": [
    "import matplotlib.pyplot as plt\n",
    "import seaborn as sns\n",
    "sns.set_theme()\n",
    "plt.figure(figsize=(10, 7))\n",
    "plt.title('Validation Set Prediction Accuracy of SVM Classification on Arxiv Article Abstracts\\n Using 70/30 Train/Validation Split')\n",
    "sns.lineplot(x=\"Alpha\", y=\"Accuracy\", palette=\"deep\", hue=\"Max_iter\", data=df)\n",
    "plt.savefig('compareSVM.png')\n",
    "plt.show();"
   ]
  },
  {
   "cell_type": "code",
   "execution_count": 38,
   "metadata": {},
   "outputs": [],
   "source": [
    "# Grid Search\n",
    "# Here, we are creating a list of parameters for which we would like to do performance tuning. \n",
    "# All the parameters name start with the classifier name (remember the arbitrary name we gave). \n",
    "# E.g. vect__ngram_range; here we are telling to use unigram and bigrams and choose the one which is optimal.\n",
    "\n",
    "from sklearn.model_selection import GridSearchCV\n",
    "parameters = {'vect__ngram_range': [(1, 1), (1, 2)], 'tfidf__use_idf': (True, False), 'clf__alpha': (0.5, 0.2, 0.15, 0.1, 1e-2, 1e-3)}"
   ]
  },
  {
   "cell_type": "code",
   "execution_count": 19,
   "metadata": {},
   "outputs": [],
   "source": [
    "# Next, we create an instance of the grid search by passing the classifier, parameters \n",
    "# and n_jobs=-1 which tells to use multiple cores from user machine.\n",
    "\n",
    "gs_clf = GridSearchCV(text_clf, parameters, n_jobs=-1)\n",
    "gs_clf = gs_clf.fit(train['Abstract'], train['Category'])"
   ]
  },
  {
   "cell_type": "code",
   "execution_count": 20,
   "metadata": {
    "collapsed": false,
    "jupyter": {
     "outputs_hidden": false
    }
   },
   "outputs": [
    {
     "data": {
      "text/plain": [
       "{'clf__alpha': 0.1, 'tfidf__use_idf': True, 'vect__ngram_range': (1, 1)}"
      ]
     },
     "execution_count": 20,
     "metadata": {},
     "output_type": "execute_result"
    }
   ],
   "source": [
    "# To see the best mean score and the params, run the following code\n",
    "\n",
    "gs_clf.best_score_\n",
    "gs_clf.best_params_\n",
    "\n",
    "# Output for above should be: The accuracy has now increased to ~90.6% for the NB classifier (not so naive anymore! 😄)\n",
    "# and the corresponding parameters are {‘clf__alpha’: 0.01, ‘tfidf__use_idf’: True, ‘vect__ngram_range’: (1, 2)}."
   ]
  },
  {
   "cell_type": "code",
   "execution_count": 54,
   "metadata": {
    "collapsed": false,
    "jupyter": {
     "outputs_hidden": false
    }
   },
   "outputs": [
    {
     "name": "stderr",
     "output_type": "stream",
     "text": [
      "/Users/Matteo/miniconda/envs/mila3.7/lib/python3.7/site-packages/sklearn/linear_model/_stochastic_gradient.py:573: ConvergenceWarning: Maximum number of iteration reached before convergence. Consider increasing max_iter to improve the fit.\n",
      "  ConvergenceWarning)\n"
     ]
    },
    {
     "data": {
      "text/plain": [
       "{'clf-svm__alpha': 0.001, 'tfidf__use_idf': True, 'vect__ngram_range': (1, 2)}"
      ]
     },
     "execution_count": 54,
     "metadata": {},
     "output_type": "execute_result"
    }
   ],
   "source": [
    "# Similarly doing grid search for SVM\n",
    "from sklearn.model_selection import GridSearchCV\n",
    "parameters_svm = {'vect__ngram_range': [(1, 1), (1, 2)], 'tfidf__use_idf': (True, False),'clf-svm__alpha': (1e-2, 1e-3)}\n",
    "\n",
    "gs_clf_svm = GridSearchCV(text_clf_svm, parameters_svm, n_jobs=-1)\n",
    "gs_clf_svm = gs_clf_svm.fit(train['Abstract'], train['Category'])\n",
    "\n",
    "\n",
    "gs_clf_svm.best_score_\n",
    "gs_clf_svm.best_params_"
   ]
  },
  {
   "cell_type": "code",
   "execution_count": 55,
   "metadata": {},
   "outputs": [],
   "source": [
    "# # NLTK\n",
    "# # Removing stop words\n",
    "# from sklearn.pipeline import Pipeline\n",
    "# text_clf = Pipeline([('vect', CountVectorizer(stop_words='english')), ('tfidf', TfidfTransformer()), \n",
    "#                      ('clf', MultinomialNB())])"
   ]
  },
  {
   "cell_type": "code",
   "execution_count": 21,
   "metadata": {
    "collapsed": false,
    "jupyter": {
     "outputs_hidden": false
    }
   },
   "outputs": [
    {
     "data": {
      "text/plain": [
       "0.7631111111111111"
      ]
     },
     "execution_count": 21,
     "metadata": {},
     "output_type": "execute_result"
    }
   ],
   "source": [
    "# # Stemming Code\n",
    "\n",
    "# import nltk\n",
    "# #nltk.download()\n",
    "\n",
    "# from nltk.stem.snowball import SnowballStemmer\n",
    "# stemmer = SnowballStemmer(\"english\", ignore_stopwords=True)\n",
    "\n",
    "# class StemmedCountVectorizer(CountVectorizer):\n",
    "#     def build_analyzer(self):\n",
    "#         analyzer = super(StemmedCountVectorizer, self).build_analyzer()\n",
    "#         return lambda doc: ([stemmer.stem(w) for w in analyzer(doc)])\n",
    "    \n",
    "# stemmed_count_vect = StemmedCountVectorizer(stop_words='english')\n",
    "\n",
    "# text_mnb_stemmed = Pipeline([('vect', stemmed_count_vect), ('tfidf', TfidfTransformer()), \n",
    "#                              ('mnb', MultinomialNB(fit_prior=False))])\n",
    "\n",
    "# text_mnb_stemmed = text_mnb_stemmed.fit(train['Abstract'], train['Category'])\n",
    "\n",
    "# predicted_mnb_stemmed = text_mnb_stemmed.predict(valid['Abstract'])\n",
    "\n",
    "# np.mean(predicted_mnb_stemmed == valid['Category'])"
   ]
  },
  {
   "cell_type": "code",
   "execution_count": null,
   "metadata": {},
   "outputs": [],
   "source": []
  }
 ],
 "metadata": {
  "kernelspec": {
   "display_name": "mila3.7",
   "language": "python",
   "name": "mila3.7"
  },
  "language_info": {
   "codemirror_mode": {
    "name": "ipython",
    "version": 3
   },
   "file_extension": ".py",
   "mimetype": "text/x-python",
   "name": "python",
   "nbconvert_exporter": "python",
   "pygments_lexer": "ipython3",
   "version": "3.7.9"
  }
 },
 "nbformat": 4,
 "nbformat_minor": 4
}
