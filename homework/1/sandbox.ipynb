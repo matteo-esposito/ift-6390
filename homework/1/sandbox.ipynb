{
 "cells": [
  {
   "cell_type": "code",
   "execution_count": 79,
   "metadata": {},
   "outputs": [],
   "source": [
    "import numpy as np\n",
    "\n",
    "######## DO NOT MODIFY THIS FUNCTION ########\n",
    "def draw_rand_label(x, label_list):\n",
    "    seed = abs(np.sum(x))\n",
    "    while seed < 1:\n",
    "        seed = 10 * seed\n",
    "    seed = int(1000000 * seed)\n",
    "    np.random.seed(seed)\n",
    "    return np.random.choice(label_list)\n",
    "#############################################"
   ]
  },
  {
   "cell_type": "code",
   "execution_count": 80,
   "metadata": {},
   "outputs": [],
   "source": [
    "banknote = np.genfromtxt(\"data_banknote_authentication.txt\", delimiter=\",\")"
   ]
  },
  {
   "cell_type": "code",
   "execution_count": 81,
   "metadata": {},
   "outputs": [],
   "source": [
    "class Q1:\n",
    "    def feature_means(self, banknote):\n",
    "        avgs = []\n",
    "        for i in range(banknote.shape[-1]-1):\n",
    "            avgs.append(np.average(banknote[:, i]))\n",
    "        return avgs\n",
    "\n",
    "    def covariance_matrix(self, banknote):\n",
    "        return np.cov(banknote[:,:4], rowvar=False)\n",
    "\n",
    "    def feature_means_class_1(self, banknote):\n",
    "        return self.feature_means(banknote[banknote[:,4] == 1])\n",
    "\n",
    "    def covariance_matrix_class_1(self, banknote):\n",
    "        return self.covariance_matrix(banknote[banknote[:,4] == 1])"
   ]
  },
  {
   "cell_type": "code",
   "execution_count": 82,
   "metadata": {},
   "outputs": [],
   "source": [
    "class HardParzen:\n",
    "    def __init__(self, h):\n",
    "        self.h = h\n",
    "\n",
    "    def train(self, train_inputs, train_labels):\n",
    "        self.train_inputs = train_inputs\n",
    "        self.train_labels = train_labels\n",
    "        self.label_list = np.unique(train_labels)\n",
    "    \n",
    "    def compute_predictions(self, test_data):\n",
    "        num_test = test_data.shape[0]\n",
    "        counts = np.ones((num_test, len(self.label_list)))\n",
    "        classes_pred = np.zeros(num_test)\n",
    "\n",
    "        for i, observation in enumerate(test_data):\n",
    "            # Get distance from point ex and every training example.\n",
    "            distances = np.sqrt(np.sum((self.train_inputs - observation) ** 2, axis=1))\n",
    "        \n",
    "            # Get an array of all the points that are within the parzen window of the example point.\n",
    "            neighbour_indices = []\n",
    "            parzen_radius = self.h\n",
    "            neighbour_indices = np.array([j for j in range(len(distances)) if distances[j] <= parzen_radius])\n",
    "            \n",
    "            # If there are no points in the window, draw randomly, otherwise perform a vote.\n",
    "            if neighbour_indices.size == 0:\n",
    "                classes_pred[i] = draw_rand_label(observation, self.train_labels)\n",
    "            else: \n",
    "                for k in neighbour_indices:\n",
    "                    counts[i, int(self.train_labels[k])] += 1\n",
    "                classes_pred[i] = np.argmax(counts[i, :])\n",
    "            \n",
    "        return classes_pred"
   ]
  },
  {
   "cell_type": "code",
   "execution_count": 83,
   "metadata": {},
   "outputs": [],
   "source": [
    "class SoftRBFParzen:\n",
    "    def __init__(self, sigma):\n",
    "        self.sigma = sigma\n",
    "\n",
    "    def train(self, train_inputs, train_labels):\n",
    "        self.train_inputs = train_inputs\n",
    "        self.train_labels = train_labels\n",
    "        self.label_list = np.unique(train_labels)\n",
    "\n",
    "    def compute_predictions(self, test_data):\n",
    "        num_test = test_data.shape[0]\n",
    "        classes_pred = np.zeros(num_test)\n",
    "        \n",
    "        for i, observation in enumerate(test_data):\n",
    "            # Get distance from point ex and every training example.\n",
    "            euclidean_distances = np.sqrt(np.sum((self.train_inputs - observation) ** 2, axis=1))\n",
    "            \n",
    "            # get sum of k\n",
    "            ksum = 0\n",
    "            kysum = np.ones(len(self.label_list))\n",
    "            int_sum = np.zeros((test_data.shape[0], len(self.label_list)))\n",
    "            \n",
    "            for j, dist in enumerate(euclidean_distances):\n",
    "                k = (1/(((2*np.pi)**len(self.label_list))*(self.sigma**(2*len(self.label_list)))))*np.exp(-0.5*((dist**2)/(self.sigma**2)))\n",
    "                ksum += k\n",
    "                kysum[int(self.train_labels[j])] += k\n",
    "            \n",
    "            # get intermediate sum\n",
    "            int_sum = (1/ksum)*(kysum)\n",
    "            \n",
    "            classes_pred[i] = np.argmax(int_sum)\n",
    "            \n",
    "        return classes_pred"
   ]
  },
  {
   "cell_type": "code",
   "execution_count": 84,
   "metadata": {},
   "outputs": [],
   "source": [
    "def split_dataset(banknote):\n",
    "    train = banknote[[i for i in range(banknote.shape[0]) if i % 5 <= 2]]\n",
    "    validation = banknote[[i for i in range(banknote.shape[0]) if i % 5 == 3]]\n",
    "    test = banknote[[i for i in range(banknote.shape[0]) if i % 5 == 4]]\n",
    "    return (train, validation, test)"
   ]
  },
  {
   "cell_type": "code",
   "execution_count": 85,
   "metadata": {},
   "outputs": [],
   "source": [
    "class ErrorRate:\n",
    "    def __init__(self, x_train, y_train, x_val, y_val):\n",
    "        self.x_train = x_train\n",
    "        self.y_train = y_train\n",
    "        self.x_val = x_val\n",
    "        self.y_val = y_val\n",
    "\n",
    "    def hard_parzen(self, h):\n",
    "        HP = HardParzen(h)\n",
    "        HP.train(train_inputs=self.x_train, train_labels=self.y_train)\n",
    "        preds = HP.compute_predictions(test_data=self.x_val)\n",
    "        return preds[preds != self.y_val].shape[0]/preds.shape[0]\n",
    "\n",
    "    def soft_parzen(self, sigma):\n",
    "        SP = SoftRBFParzen(sigma)\n",
    "        SP.train(train_inputs=self.x_train, train_labels=self.y_train)\n",
    "        preds = SP.compute_predictions(test_data=self.x_val)\n",
    "        return preds[preds != self.y_val].shape[0]/preds.shape[0]"
   ]
  },
  {
   "cell_type": "code",
   "execution_count": 87,
   "metadata": {},
   "outputs": [],
   "source": [
    "import matplotlib.pyplot as plt"
   ]
  },
  {
   "cell_type": "code",
   "execution_count": 31,
   "metadata": {},
   "outputs": [
    {
     "name": "stderr",
     "output_type": "stream",
     "text": [
      "/Users/Matteo/miniconda/envs/mila3.7/lib/python3.7/site-packages/ipykernel_launcher.py:29: RuntimeWarning: divide by zero encountered in double_scalars\n",
      "/Users/Matteo/miniconda/envs/mila3.7/lib/python3.7/site-packages/ipykernel_launcher.py:29: RuntimeWarning: overflow encountered in double_scalars\n"
     ]
    },
    {
     "data": {
      "image/png": "[encoded data removed]",
      "text/plain": [
       "<Figure size 640x480 with 1 Axes>"
      ]
     },
     "metadata": {},
     "output_type": "display_data"
    }
   ],
   "source": [
    "params = [0.01,0.1,0.2,0.3,0.4,0.5,1.0,3.0,10.0,20.0]\n",
    "y1 = []\n",
    "y2 = []\n",
    "for p in params:\n",
    "    y1.append(ER.hard_parzen(h=p))\n",
    "    y2.append(ER.soft_parzen(sigma=p))\n",
    "    \n",
    "plt.figure(num=None, figsize=(8, 6), dpi=80, facecolor='w', edgecolor='k')\n",
    "plt.plot(params, y1, label=\"Hard Parzen\")\n",
    "plt.plot(params, y2, label=\"Soft Parzen\")\n",
    "plt.plot()\n",
    "\n",
    "plt.xlabel(\"sigma/h Value\")\n",
    "plt.ylabel(\"Error Rate\")\n",
    "plt.title(\"Hard Neighbourhood vs. Soft Neighbourhood (RBF) Parzen Windows\\n Multiclass Classification Error Rate\")\n",
    "plt.legend()\n",
    "plt.show()\n",
    "plt.close()"
   ]
  },
  {
   "cell_type": "code",
   "execution_count": 88,
   "metadata": {},
   "outputs": [],
   "source": [
    "def get_test_errors(banknote):\n",
    "    train, val, test = split_dataset(banknote)\n",
    "    ER = ErrorRate(x_train=train[:, :4], x_val=val[:, :4],\n",
    "                  y_train=train[:, 4], y_val=val[:, 4])\n",
    "    \n",
    "    # Get Errors\n",
    "    params = [0.01,0.1,0.2,0.3,0.4,0.5,1.0,3.0,10.0,20.0]\n",
    "    hard_errors = []\n",
    "    soft_errors = []\n",
    "    for p in params:\n",
    "        hard_errors.append(ER.hard_parzen(h=p))\n",
    "        soft_errors.append(ER.soft_parzen(sigma=p))\n",
    "        \n",
    "    # Get h* and sigma*\n",
    "    hstar = params[np.argmin(hard_errors)]\n",
    "    sigmastar = params[np.argmin(soft_errors)]\n",
    "    \n",
    "    # Get and return test error\n",
    "    ERnew = ErrorRate(x_train=train[:, :4], x_val=test[:, :4],\n",
    "                  y_train=train[:, 4], y_val=test[:, 4])\n",
    "    v1 = ERnew.hard_parzen(h=hstar)\n",
    "    v2 = ERnew.soft_parzen(sigma=sigmastar)\n",
    "    \n",
    "    return np.array([v1,v2])"
   ]
  },
  {
   "cell_type": "code",
   "execution_count": 89,
   "metadata": {},
   "outputs": [
    {
     "name": "stderr",
     "output_type": "stream",
     "text": [
      "/Users/Matteo/miniconda/envs/mila3.7/lib/python3.7/site-packages/ipykernel_launcher.py:29: RuntimeWarning: divide by zero encountered in double_scalars\n",
      "/Users/Matteo/miniconda/envs/mila3.7/lib/python3.7/site-packages/ipykernel_launcher.py:29: RuntimeWarning: overflow encountered in double_scalars\n"
     ]
    },
    {
     "data": {
      "text/plain": [
       "array([0.01094891, 0.        ])"
      ]
     },
     "execution_count": 89,
     "metadata": {},
     "output_type": "execute_result"
    }
   ],
   "source": [
    "get_test_errors(banknote)"
   ]
  },
  {
   "cell_type": "code",
   "execution_count": 75,
   "metadata": {},
   "outputs": [],
   "source": [
    "def random_projections(X, A):\n",
    "    return (1/np.sqrt(2))*np.dot(X, A)"
   ]
  },
  {
   "cell_type": "code",
   "execution_count": null,
   "metadata": {},
   "outputs": [],
   "source": []
  }
 ],
 "metadata": {
  "kernelspec": {
   "display_name": "mila3.7",
   "language": "python",
   "name": "mila3.7"
  },
  "language_info": {
   "codemirror_mode": {
    "name": "ipython",
    "version": 3
   },
   "file_extension": ".py",
   "mimetype": "text/x-python",
   "name": "python",
   "nbconvert_exporter": "python",
   "pygments_lexer": "ipython3",
   "version": "3.7.9"
  }
 },
 "nbformat": 4,
 "nbformat_minor": 4
}
