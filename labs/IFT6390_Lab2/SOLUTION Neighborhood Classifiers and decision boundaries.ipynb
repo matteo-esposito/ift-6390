{
 "cells": [
  {
   "cell_type": "markdown",
   "metadata": {
    "colab_type": "text",
    "id": "EiWpaedHq11D"
   },
   "source": [
    "# Lab 2: Neighborhood Classifiers, Training and Test set, Decision boundaries"
   ]
  },
  {
   "cell_type": "markdown",
   "metadata": {
    "colab_type": "text",
    "id": "wMfDlERyq11H"
   },
   "source": [
    "Last week you implemented the 1 nearest neighbor (1-NN) algorithm. This week you will implement the KNN algorithm and the Parzen windows algorithm with hard neighborhood. On top of this, we will touch upon training and test sets, as well as decision boundaries.\n",
    "\n",
    "- Your first step is to remember how KNN and Parzen windows work.\n",
    "- You will need to implement a function that evaluates the [confusion matrix](http://en.wikipedia.org/wiki/Confusion_matrix) given true labels and predicted labels.\n",
    "- We provide you with the boilerplate code in which you will need to insert your KNN and Parzen windows implementations. This way you will be able to focus on the actual algorithm itself and you will not have to worry about things as printing or displaying results.\n",
    "- Once your implementation is correct, you will try different values of $k$ (number of neighbors) and pick the best ones.\n",
    "\n",
    "Familiarize yourself with the code in the following 5 sections:\n",
    "   - **Loading and splitting the data:** Loads a dataset and splits it into two parts (train, test).\n",
    "   - **Utility Functions:** Defines helper functions such as for visualization, evaluation, etc. This is where you will implement the confusion matrix function.\n",
    "   - **NeighborhoodClassifier class:** This is where you will implement the KNN and Parzen windows classifiers.\n",
    "   - **Initialization and training of classifiers:** Trains a KNN/Parzen windows model on the train dataset and obtains predictions on the test set.\n",
    "   - **Confusion matrix and decision boundary:** Displays the confusion matrix and visualizes the decision boundary of our trained classifiers.\n",
    "   - **Trying different values of $k$ for k-NN:** This is where you will fill in the function `get_test_error`, that would help plot the test error as a function of the number of neighbors (the plotting code is provided for you).\n",
    "\n",
    "**Your objective for this demo session** is to understand the general functioning of the code below and then to fill in the functions `conf_mat`, `NeighborhoodClassifier.compute_predictions()`, and `get_test_error`. All the places where you have to insert code are signaled by a `pass` statement.\n"
   ]
  },
  {
   "cell_type": "markdown",
   "metadata": {
    "colab_type": "text",
    "id": "iZ5_VALCq11J"
   },
   "source": [
    "### Python classes"
   ]
  },
  {
   "cell_type": "markdown",
   "metadata": {
    "colab_type": "text",
    "id": "56jepwlVq11M"
   },
   "source": [
    "For this demo, we will implement both KNN and Parzen windows as a **class** (one class for both algorithms). You can read this [tutorial](http://docs.python.org/3/tutorial/classes.html) if you are not familiar with the concept of classes in Object-oriented programming or its syntax in python. The class `NeighborhoodClassifier` is already partially implemented. All that you have left to do to implement the classifiers is to write the method `compute_predictions`."
   ]
  },
  {
   "cell_type": "code",
   "execution_count": 4,
   "metadata": {
    "colab": {},
    "colab_type": "code",
    "executionInfo": {
     "elapsed": 552,
     "status": "ok",
     "timestamp": 1600307530081,
     "user": {
      "displayName": "Vikram Voleti",
      "photoUrl": "",
      "userId": "03629638667557556728"
     },
     "user_tz": 240
    },
    "id": "mVlw-ooKq11T"
   },
   "outputs": [],
   "source": [
    "%matplotlib inline\n",
    "import numpy as np\n",
    "import random\n",
    "import matplotlib.pyplot as plt\n",
    "import time\n",
    "import sys\n",
    "IN_COLAB = 'google.colab' in sys.modules"
   ]
  },
  {
   "cell_type": "markdown",
   "metadata": {
    "colab_type": "text",
    "id": "LnHJmW5kq113"
   },
   "source": [
    "## Loading and splitting the data"
   ]
  },
  {
   "cell_type": "markdown",
   "metadata": {
    "colab_type": "text",
    "id": "mbMVHGVsq115"
   },
   "source": [
    "The `iris` dataset is divided into two parts, one for training and the other for testing.\n",
    "It is important to shuffle randomly the dataset before splitting it. Can you tell why?\n",
    "\n",
    "Only two columns of the dataset are used for this lab (the goal is to visualize them in 2-dimensions)."
   ]
  },
  {
   "cell_type": "code",
   "execution_count": 5,
   "metadata": {
    "colab": {},
    "colab_type": "code",
    "executionInfo": {
     "elapsed": 544,
     "status": "ok",
     "timestamp": 1600307533219,
     "user": {
      "displayName": "Vikram Voleti",
      "photoUrl": "",
      "userId": "03629638667557556728"
     },
     "user_tz": 240
    },
    "id": "ensHg-diq116"
   },
   "outputs": [],
   "source": [
    "# load iris\n",
    "if IN_COLAB:\n",
    "  iris = np.loadtxt('http://www.iro.umontreal.ca/~dift3395/files/iris.txt')\n",
    "else:\n",
    "  iris = np.loadtxt('iris.txt')\n",
    "data = iris\n",
    "\n",
    "# Number of classes\n",
    "n_classes = 3\n",
    "# Size of training set\n",
    "n_train = 100\n",
    "\n",
    "# The columns (features) on which to train our model\n",
    "# For grid_plot to work, len(train_cols) should be 2\n",
    "train_cols = [0, 1]\n",
    "# The index of the column containing the labels\n",
    "target_ind = [data.shape[1] - 1]\n",
    "\n",
    "# Seed the randomizer\n",
    "random.seed(3395)\n",
    "# Randomly choose indexes for the train and test dataset\n",
    "inds = list(range(data.shape[0]))\n",
    "random.shuffle(inds)\n",
    "train_inds = inds[:n_train]\n",
    "test_inds = inds[n_train:]\n",
    "\n",
    "# Split the data into both sets\n",
    "train_set = data[train_inds, :]\n",
    "train_set = train_set[:, train_cols + target_ind]\n",
    "test_set = data[test_inds, :]\n",
    "test_set = test_set[:, train_cols + target_ind]\n",
    "\n",
    "# Separate the test set into inputs and labels\n",
    "test_inputs = test_set[:, :-1]\n",
    "test_labels = test_set[:, -1].astype('int32')\n",
    "train_inputs = train_set[:, :-1]\n",
    "train_labels = train_set[:, -1].astype('int32')"
   ]
  },
  {
   "cell_type": "markdown",
   "metadata": {
    "colab_type": "text",
    "id": "OSDv-wTBq11O"
   },
   "source": [
    "\n",
    "## Utility Functions"
   ]
  },
  {
   "cell_type": "markdown",
   "metadata": {
    "colab_type": "text",
    "id": "aCyOu-6Lq11f"
   },
   "source": [
    "### `minkowski_mat`\n",
    "\n",
    "This functions calculates the Minkowski distance between a vector x and a matrix Y. Does this remind you of anything?"
   ]
  },
  {
   "cell_type": "code",
   "execution_count": 6,
   "metadata": {
    "colab": {},
    "colab_type": "code",
    "executionInfo": {
     "elapsed": 654,
     "status": "ok",
     "timestamp": 1600307538842,
     "user": {
      "displayName": "Vikram Voleti",
      "photoUrl": "",
      "userId": "03629638667557556728"
     },
     "user_tz": 240
    },
    "id": "VKHzxMjiq11h"
   },
   "outputs": [],
   "source": [
    "def minkowski_mat(x, Y, p=2):\n",
    "    return (np.sum((np.abs(x - Y)) ** p, axis=1)) ** (1.0 / p)"
   ]
  },
  {
   "cell_type": "markdown",
   "metadata": {
    "colab_type": "text",
    "id": "Y0csAL-Fq11l"
   },
   "source": [
    "### `confusion_matrix`\n",
    "\n",
    "The function `confusion_matrix` takes as input:\n",
    "\n",
    "- `true_labels` - true labels\n",
    "- `pred_labels` - predicted labels,\n",
    "\n",
    "and returns a table presenting the results.\n",
    "\n",
    "We initialize the matrix with zeros. Your job is to loop through the labels (true labels and predicted ones) to update the values of the matrix."
   ]
  },
  {
   "cell_type": "code",
   "execution_count": 9,
   "metadata": {
    "colab": {
     "base_uri": "https://localhost:8080/",
     "height": 69
    },
    "colab_type": "code",
    "executionInfo": {
     "elapsed": 525,
     "status": "ok",
     "timestamp": 1600307685689,
     "user": {
      "displayName": "Vikram Voleti",
      "photoUrl": "",
      "userId": "03629638667557556728"
     },
     "user_tz": 240
    },
    "id": "YqkeIN8jxT6W",
    "outputId": "aee9d99d-21a9-4746-e1dd-187c83947600"
   },
   "outputs": [
    {
     "data": {
      "text/plain": [
       "array([3, 2, 2, 2, 3, 1, 3, 2, 1, 2, 2, 1, 1, 2, 1, 1, 2, 1, 3, 1, 3, 3,\n",
       "       2, 2, 2, 3, 3, 1, 3, 2, 3, 2, 1, 1, 1, 1, 1, 2, 2, 3, 1, 3, 3, 1,\n",
       "       2, 2, 1, 3, 1, 2], dtype=int32)"
      ]
     },
     "execution_count": 9,
     "metadata": {
      "tags": []
     },
     "output_type": "execute_result"
    }
   ],
   "source": [
    "test_labels"
   ]
  },
  {
   "cell_type": "code",
   "execution_count": 13,
   "metadata": {
    "colab": {},
    "colab_type": "code",
    "executionInfo": {
     "elapsed": 532,
     "status": "ok",
     "timestamp": 1600307880174,
     "user": {
      "displayName": "Vikram Voleti",
      "photoUrl": "",
      "userId": "03629638667557556728"
     },
     "user_tz": 240
    },
    "id": "HNXWb2ujq11n"
   },
   "outputs": [],
   "source": [
    "def confusion_matrix(true_labels, pred_labels):\n",
    "\n",
    "    matrix = np.zeros((n_classes, n_classes))\n",
    "\n",
    "    for (true, pred) in zip(true_labels, pred_labels):\n",
    "        matrix[int(true - 1), int(pred - 1)] += 1\n",
    "\n",
    "    return matrix"
   ]
  },
  {
   "cell_type": "code",
   "execution_count": 21,
   "metadata": {
    "colab": {
     "base_uri": "https://localhost:8080/",
     "height": 338
    },
    "colab_type": "code",
    "executionInfo": {
     "elapsed": 632,
     "status": "ok",
     "timestamp": 1600308103686,
     "user": {
      "displayName": "Vikram Voleti",
      "photoUrl": "",
      "userId": "03629638667557556728"
     },
     "user_tz": 240
    },
    "id": "j3IPjbtQy6g8",
    "outputId": "a4964458-5684-40a5-b4ba-bc8159af42ff"
   },
   "outputs": [
    {
     "name": "stdout",
     "output_type": "stream",
     "text": [
      "[[2. 0. 0.]\n",
      " [0. 2. 0.]\n",
      " [0. 0. 2.]]\n"
     ]
    },
    {
     "data": {
      "text/plain": [
       "<matplotlib.colorbar.Colorbar at 0x7f6acba6d7f0>"
      ]
     },
     "execution_count": 21,
     "metadata": {
      "tags": []
     },
     "output_type": "execute_result"
    },
    {
     "data": {
      "image/png": "[encoded data removed]",
      "text/plain": [
       "<Figure size 432x288 with 2 Axes>"
      ]
     },
     "metadata": {
      "needs_background": "light",
      "tags": []
     },
     "output_type": "display_data"
    }
   ],
   "source": [
    "# Perfect classifier's confusion matrix\n",
    "conf_mat = confusion_matrix([1, 1, 2, 2, 3, 3], [1, 1, 2, 2, 3, 3])\n",
    "print(conf_mat)\n",
    "plt.imshow(conf_mat/conf_mat.max(), cmap='gray')\n",
    "plt.colorbar()"
   ]
  },
  {
   "cell_type": "code",
   "execution_count": 20,
   "metadata": {
    "colab": {
     "base_uri": "https://localhost:8080/",
     "height": 338
    },
    "colab_type": "code",
    "executionInfo": {
     "elapsed": 613,
     "status": "ok",
     "timestamp": 1600308086510,
     "user": {
      "displayName": "Vikram Voleti",
      "photoUrl": "",
      "userId": "03629638667557556728"
     },
     "user_tz": 240
    },
    "id": "-rD5F_W5x4hL",
    "outputId": "8e94fe8d-86a4-49fc-ff76-12485316a559"
   },
   "outputs": [
    {
     "name": "stdout",
     "output_type": "stream",
     "text": [
      "[[2. 0. 0.]\n",
      " [0. 1. 1.]\n",
      " [1. 1. 0.]]\n"
     ]
    },
    {
     "data": {
      "text/plain": [
       "<matplotlib.colorbar.Colorbar at 0x7f6acbb49748>"
      ]
     },
     "execution_count": 20,
     "metadata": {
      "tags": []
     },
     "output_type": "execute_result"
    },
    {
     "data": {
      "image/png": "[encoded data removed]",
      "text/plain": [
       "<Figure size 432x288 with 2 Axes>"
      ]
     },
     "metadata": {
      "needs_background": "light",
      "tags": []
     },
     "output_type": "display_data"
    }
   ],
   "source": [
    "# A not-so-perfect classifier's confusion matrix\n",
    "conf_mat = confusion_matrix([1, 1, 2, 2, 3, 3], [1, 1, 2, 3, 1, 2])\n",
    "print(conf_mat)\n",
    "plt.imshow(conf_mat/conf_mat.max(), cmap='gray')\n",
    "plt.colorbar()"
   ]
  },
  {
   "cell_type": "markdown",
   "metadata": {
    "colab_type": "text",
    "id": "VAkr5XMnq11s"
   },
   "source": [
    "### `grid_plot`\n",
    "\n",
    "The function `grid_plot` takes as input:\n",
    "\n",
    "- `classifier` - a classifier such as `NeighborhoodClassifier`\n",
    "- `train` - a training set\n",
    "- `test` - a test set\n",
    "- `n_points` - the width/height of the grid on which to visualize the decision boundary (n, n)\n",
    "\n",
    "Depending on the speed of your computer, calculating of predictions on the grid can be slow. We recommend doing the first tests with a small grid (say, 25 by 25). You could then augment the size of the grid to 50x50 or even 100x100 to obtain better looking visualizations."
   ]
  },
  {
   "cell_type": "code",
   "execution_count": 31,
   "metadata": {
    "colab": {},
    "colab_type": "code",
    "executionInfo": {
     "elapsed": 559,
     "status": "ok",
     "timestamp": 1600309557653,
     "user": {
      "displayName": "Vikram Voleti",
      "photoUrl": "",
      "userId": "03629638667557556728"
     },
     "user_tz": 240
    },
    "id": "nvngYoRyq11u"
   },
   "outputs": [],
   "source": [
    "# function plot\n",
    "def grid_plot(classifier, train, test, n_points=50):\n",
    "\n",
    "    train_test = np.vstack((train, test))\n",
    "    (min_x1, max_x1) = (min(train_test[:, 0]) - .25, max(train_test[:, 0]) + .25)\n",
    "    (min_x2, max_x2) = (min(train_test[:, 1]) - .25, max(train_test[:, 1]) + .25)\n",
    "\n",
    "    x_grid = np.linspace(min_x1, max_x1, num=n_points)\n",
    "    y_grid = np.linspace(min_x2, max_x2, num=n_points)\n",
    "\n",
    "    # calculates the cartesian product between two lists and stores the result in an array\n",
    "    the_grid = np.array(combine(x_grid, y_grid))\n",
    "\n",
    "    predicted_classes = classifier.compute_predictions(the_grid)\n",
    "\n",
    "    # The grid\n",
    "    plt.pcolormesh(x_grid, y_grid, predicted_classes.reshape((n_points, n_points)).T, cmap=plt.cm.cool, alpha=.1)\n",
    "    # Training data points\n",
    "    plt.scatter(train[:, 0], train[:, 1], c=train[:,-1], cmap=plt.cm.cool, marker='o', s=70, label='train')\n",
    "    # Test data points\n",
    "    plt.scatter(test[:, 0], test[:, 1], c=test[:,-1], cmap=plt.cm.cool, marker='x', s=70, label='test')\n",
    "\n",
    "    plt.legend()\n",
    "    plt.show()\n",
    "    \n",
    "# http://code.activestate.com/recipes/302478/\n",
    "def combine(*seqin):\n",
    "    '''returns a list of all combinations of argument sequences.\n",
    "    for example: combine((1,2),(3,4)) returns\n",
    "    [[1, 3], [1, 4], [2, 3], [2, 4]]'''\n",
    "    def rloop(seqin, listout, comb):\n",
    "        '''recursive looping function'''\n",
    "        if seqin:                       # any more sequences to process?\n",
    "            for item in seqin[0]:\n",
    "                newcomb = comb + [item]     # add next item to current comb\n",
    "                # call rloop w/ rem seqs, newcomb\n",
    "                rloop(seqin[1:], listout, newcomb)\n",
    "        else:                           # processing last sequence\n",
    "            listout.append(comb)        # comb finished, add to list\n",
    "    listout = []                        # listout initialization\n",
    "    rloop(seqin, listout, [])           # start recursive process\n",
    "    return listout"
   ]
  },
  {
   "cell_type": "markdown",
   "metadata": {
    "colab_type": "text",
    "id": "Te_pw7u3q11x"
   },
   "source": [
    "## NeighborhoodClassifier class"
   ]
  },
  {
   "cell_type": "markdown",
   "metadata": {
    "colab_type": "text",
    "id": "ME0KoSbrq11y"
   },
   "source": [
    "The class `NeighborhoodClassifier` takes as parameters:\n",
    "\n",
    "- `parzen` - if set to True, the classifier is a Parzen windows one ; otherwise, the classifier is KNN\n",
    "- `dist_func` - a function to calculate the distance between points\n",
    "- `k` - the number of neighbors to visit (For knn only)\n",
    "- `radius` - the radius that defines the Parzen Windows (For Parzen windows only)\n",
    "\n",
    "The method `train` is actually really only storing the dataset. All of the work is done at prediction time for `NeighborhoodClassifier`  models.\n",
    "\n",
    "The method `compute_predictions` takes as input the unlabeled test set in matrix form and returns the array containing the predictions. The returned array is one-dimensional and has `n_examples` elements.\n",
    "\n",
    "You will need, for each test set example, to:\n",
    "\n",
    " - **Calculate distances** for every point of the training set (using dist_func)\n",
    " - Look through the distances to **find the $k$ nearest neighbors** (or **find the training points belonging to the ball of the wanted radius** in the case of a Parzen windows classifier) of the current test example\n",
    " - **Calculate the number of neighbors per class** and save them in `counts`\n",
    " - **Evaluate the predicted class** from `counts` and save it in `classes_pred`\n",
    " \n",
    "\n",
    "For Parzen classifiers, sometimes the test example is far from train examples, and the list of neighbors would then be empty. **One way to deal with such test examples is to double the radius until the list of neighbors contains at least one element.** Randomly selecting the label for such test examples is a common alternative.\n"
   ]
  },
  {
   "cell_type": "code",
   "execution_count": 22,
   "metadata": {
    "colab": {},
    "colab_type": "code",
    "executionInfo": {
     "elapsed": 561,
     "status": "ok",
     "timestamp": 1600309216325,
     "user": {
      "displayName": "Vikram Voleti",
      "photoUrl": "",
      "userId": "03629638667557556728"
     },
     "user_tz": 240
    },
    "id": "kiDBPHnsq111"
   },
   "outputs": [],
   "source": [
    "class NeighborhoodClassifier:\n",
    "    def __init__(self, parzen=False, dist_func=minkowski_mat, k=1, radius=0.4):\n",
    "        self.parzen = parzen\n",
    "        self.dist_func = dist_func\n",
    "        self.k = k\n",
    "        self.radius = radius\n",
    "\n",
    "    # The train function for knn / Parzen windows is really only storing the dataset\n",
    "    def train(self, train_inputs, train_labels):\n",
    "        self.train_inputs = train_inputs\n",
    "        self.train_labels = train_labels\n",
    "        self.n_classes = len(np.unique(train_labels))\n",
    "\n",
    "    # The prediction function takes as input test_data and returns an array containing the predicted classes. \n",
    "    def compute_predictions(self, test_data):\n",
    "        # Initialization of the count matrix and the predicted classes array\n",
    "        num_test = test_data.shape[0]\n",
    "        counts = np.ones((num_test, self.n_classes))\n",
    "        classes_pred = np.zeros(num_test)\n",
    "\n",
    "        # For each test datapoint\n",
    "        for (i, ex) in enumerate(test_data):\n",
    "            pass\n",
    "\n",
    "            # i is the row index\n",
    "            # ex is the i'th row\n",
    "\n",
    "            # Find the distances to each training set point using dist_func\n",
    "            distances = self.dist_func(ex, self.train_inputs) \n",
    "            \n",
    "            # Go through the training set to find the neighbors of the current point (ex)\n",
    "            # You will distinguish between Parzen and KNN here.\n",
    "            if self.parzen:\n",
    "              neighbour_idx = []\n",
    "              radius = self.radius\n",
    "              while len(neighbour_idx) == 0:\n",
    "                neighbour_idx = np.array([j for j in range(len(distances)) if distances[j] < radius])\n",
    "                radius *= 2\n",
    "            else:\n",
    "              neighbour_idx = np.argsort(distances)[:self.k]\n",
    "                \n",
    "            # Calculate the number of neighbors belonging to each class and write them in counts[i, :]\n",
    "            for k in neighbour_idx:\n",
    "              counts[i, self.train_labels[k]-1] += 1\n",
    "            \n",
    "            # From the counts matrix, define classes_pred[i] (don't forget that classes are labeled from 1 to n)\n",
    "            classes_pred[i] = np.argmax(counts[i, :]) + 1\n",
    "\n",
    "        return classes_pred"
   ]
  },
  {
   "cell_type": "markdown",
   "metadata": {
    "colab_type": "text",
    "id": "rsiIojpgq11_"
   },
   "source": [
    "## Initialization and training of the classifiers\n"
   ]
  },
  {
   "cell_type": "code",
   "execution_count": 23,
   "metadata": {
    "colab": {
     "base_uri": "https://localhost:8080/",
     "height": 69
    },
    "colab_type": "code",
    "executionInfo": {
     "elapsed": 571,
     "status": "ok",
     "timestamp": 1600309232632,
     "user": {
      "displayName": "Vikram Voleti",
      "photoUrl": "",
      "userId": "03629638667557556728"
     },
     "user_tz": 240
    },
    "id": "7Us0QK0eq12A",
    "outputId": "5f527b4d-4dad-4d80-c986-5f50d795a3c5"
   },
   "outputs": [
    {
     "name": "stdout",
     "output_type": "stream",
     "text": [
      "We will train  3 -NN and a Parzen classifier with radius  0.9  on  100  training examples\n",
      "It took knn  0.008461999999999748  seconds to get the predictions on  50  test set examples\n",
      "It took Parzen  0.01578400000000002  seconds to get the predictions on  50  test set examples\n"
     ]
    }
   ],
   "source": [
    "# Number of neighbors (k) for knn\n",
    "k = 3\n",
    "radius = 0.9\n",
    "print(\"We will train \", k, \"-NN and a Parzen classifier with radius \", radius, \" on \", n_train, \" training examples\")\n",
    "\n",
    "# Create the classifiers\n",
    "knn = NeighborhoodClassifier(parzen=False, dist_func=minkowski_mat, k=k)\n",
    "parzen = NeighborhoodClassifier(parzen=True, dist_func=minkowski_mat, radius=radius)\n",
    "\n",
    "# We train the models\n",
    "knn.train(train_inputs, train_labels)\n",
    "parzen.train(train_inputs, train_labels)\n",
    "\n",
    "# We get predictions\n",
    "t1 = time.clock()\n",
    "classes_pred_knn = knn.compute_predictions(test_inputs)\n",
    "t2 = time.clock()\n",
    "print('It took knn ', t2 - t1, ' seconds to get the predictions on ', test_inputs.shape[0],' test set examples')\n",
    "t1 = time.clock()\n",
    "classes_pred_parzen = parzen.compute_predictions(test_inputs)\n",
    "t2 = time.clock()\n",
    "print('It took Parzen ', t2 - t1, ' seconds to get the predictions on ', test_inputs.shape[0],' test set examples')"
   ]
  },
  {
   "cell_type": "markdown",
   "metadata": {
    "colab_type": "text",
    "id": "DEqE7Yxgq12E"
   },
   "source": [
    "## Confusion matrix and decision boundary"
   ]
  },
  {
   "cell_type": "markdown",
   "metadata": {
    "colab_type": "text",
    "id": "q3kAtk_oq12G"
   },
   "source": [
    "Here we define a function that prints the confusion matrix, given a model and a prediction array. This is very useful for analyzing which classes our classifier is having a hard time predicting. It also creates a graph displaying the training points as well as the test points and the decision boundary of our model. We try this function on the predictions made by both classifiers.\n",
    "\n",
    "Before moving on to the next section, please make sure that your implementation works well by executing this code. Do not hesitate to ask questions if you have trouble interpreting the confusion matrix or the graph."
   ]
  },
  {
   "cell_type": "code",
   "execution_count": 32,
   "metadata": {
    "colab": {
     "base_uri": "https://localhost:8080/",
     "height": 826
    },
    "colab_type": "code",
    "executionInfo": {
     "elapsed": 8229,
     "status": "ok",
     "timestamp": 1600309568625,
     "user": {
      "displayName": "Vikram Voleti",
      "photoUrl": "",
      "userId": "03629638667557556728"
     },
     "user_tz": 240
    },
    "id": "wRNZpR7Tq12G",
    "outputId": "451384e5-ee6a-4137-c476-360eac9c4759"
   },
   "outputs": [
    {
     "name": "stdout",
     "output_type": "stream",
     "text": [
      "KNN\n",
      "The confusion matrix is:\n",
      "[[18.  0.  0.]\n",
      " [ 0. 12.  6.]\n",
      " [ 0.  5.  9.]]\n",
      "The test error is  22.0 %\n"
     ]
    },
    {
     "data": {
      "image/png": "[encoded data removed]",
      "text/plain": [
       "<Figure size 432x288 with 1 Axes>"
      ]
     },
     "metadata": {
      "needs_background": "light",
      "tags": []
     },
     "output_type": "display_data"
    },
    {
     "name": "stdout",
     "output_type": "stream",
     "text": [
      "It took  1.79  seconds to calculate the predictions on 40000  points of the grid\n",
      "We will save the plot into grid__k=3_c1=0_c2=1.png\n",
      "\n",
      "PARZEN\n",
      "The confusion matrix is:\n",
      "[[18.  0.  0.]\n",
      " [ 1. 12.  5.]\n",
      " [ 0.  2. 12.]]\n",
      "The test error is  16.0 %\n"
     ]
    },
    {
     "data": {
      "image/png": "[encoded data removed]",
      "text/plain": [
       "<Figure size 432x288 with 1 Axes>"
      ]
     },
     "metadata": {
      "needs_background": "light",
      "tags": []
     },
     "output_type": "display_data"
    },
    {
     "name": "stdout",
     "output_type": "stream",
     "text": [
      "It took  6.21  seconds to calculate the predictions on 40000  points of the grid\n",
      "We will save the plot into grid__radius=0.9_c1=0_c2=1.png\n"
     ]
    },
    {
     "data": {
      "text/plain": [
       "<Figure size 432x288 with 0 Axes>"
      ]
     },
     "metadata": {
      "tags": []
     },
     "output_type": "display_data"
    }
   ],
   "source": [
    "def show_results(model, classes_pred):\n",
    "    # Confusion Matrix\n",
    "    conf_mat = confusion_matrix(test_labels, classes_pred)\n",
    "    print('The confusion matrix is:')\n",
    "    print(conf_mat)\n",
    "\n",
    "    # Test error\n",
    "    sum_preds = np.sum(conf_mat)\n",
    "    sum_correct = np.sum(np.diag(conf_mat))\n",
    "    print(\"The test error is \", round(100 * (1.0 - (float(sum_correct) / float(sum_preds))), 2), \"%\")\n",
    "\n",
    "    # The grid size will be = grid_size x grid_size\n",
    "    grid_size = 200\n",
    "\n",
    "    if len(train_cols) == 2:\n",
    "        # Decision boundary\n",
    "        t1 = time.clock()\n",
    "        grid_plot(model, train_set, test_set, n_points=grid_size)\n",
    "        t2 = time.clock()\n",
    "        print('It took ', round(t2 - t1, 2), ' seconds to calculate the predictions on', grid_size * grid_size,\n",
    "              ' points of the grid')\n",
    "        if model.parzen:\n",
    "            filename = 'grid_' + '_radius=' + str(model.radius) + '_c1=' + str(train_cols[0]) + '_c2=' + str(\n",
    "                train_cols[1]) + '.png'\n",
    "        else:\n",
    "            filename = 'grid_' + '_k=' + str(model.k) + '_c1=' + str(train_cols[0]) + '_c2=' + str(\n",
    "                train_cols[1]) + '.png'\n",
    "        print('We will save the plot into {}'.format(filename))\n",
    "        plt.savefig(filename, format='png')\n",
    "    else:\n",
    "        print('Too many dimensions (', len(train_cols), ') to print the decision boundary')\n",
    "\n",
    "print(\"KNN\")\n",
    "show_results(knn, classes_pred_knn)\n",
    "print(\"\\nPARZEN\")\n",
    "show_results(parzen, classes_pred_parzen)"
   ]
  },
  {
   "cell_type": "markdown",
   "metadata": {
    "colab_type": "text",
    "id": "F49eVeWBq12J"
   },
   "source": [
    "## Trying different values of k for k-NN\n"
   ]
  },
  {
   "cell_type": "markdown",
   "metadata": {
    "colab_type": "text",
    "id": "iglWTc3lq12K"
   },
   "source": [
    "Now that your implementation is correct, we can train different k-NN classifiers, and choose the best value for $k$. The way we are going to do this is to plot the test error as a function of $k$, and use the plot to pick the best value. However, this method has a shortcoming (**what is it?**), and one way to mitigate it is to use a validation set. You will have the opportunity in the next section to try using it.\n",
    "\n",
    "You will need to fill in the following `get_test_error`.\n",
    "\n",
    "This function takes as input `k`, and returns the test error of a k-NN classifier. You will need to instantiate the classifier, train it, compute the predictions on the `test_inputs`, compute the confusion matrix, and use it to get the test error."
   ]
  },
  {
   "cell_type": "code",
   "execution_count": 35,
   "metadata": {
    "colab": {},
    "colab_type": "code",
    "executionInfo": {
     "elapsed": 547,
     "status": "ok",
     "timestamp": 1600309810136,
     "user": {
      "displayName": "Vikram Voleti",
      "photoUrl": "",
      "userId": "03629638667557556728"
     },
     "user_tz": 240
    },
    "id": "gb9p5IVRq12M"
   },
   "outputs": [],
   "source": [
    "def get_test_error(k):\n",
    "  # Instantiate the classifier\n",
    "  knn = NeighborhoodClassifier(parzen=False, dist_func=minkowski_mat, k=k)\n",
    "  # Train it\n",
    "  knn.train(train_inputs, train_labels)\n",
    "  # Compute the predictions on test_inputs\n",
    "  classes_pred_knn = knn.compute_predictions(test_inputs)\n",
    "  # Compute the confusion matrix\n",
    "  conf_mat = confusion_matrix(test_labels, classes_pred_knn)\n",
    "  # Get test error\n",
    "  total_num = np.sum(conf_mat)\n",
    "  num_correct = np.sum(np.diag(conf_mat))\n",
    "  return 1.0 - num_correct / total_num"
   ]
  },
  {
   "cell_type": "markdown",
   "metadata": {
    "colab_type": "text",
    "id": "8JsAY52Iq12P"
   },
   "source": [
    "Using the function `get_test_error`, we will plot the test error against the values of $k$ from 1 to 100 (remember that there are 100 training examples)."
   ]
  },
  {
   "cell_type": "code",
   "execution_count": 36,
   "metadata": {
    "colab": {
     "base_uri": "https://localhost:8080/",
     "height": 279
    },
    "colab_type": "code",
    "executionInfo": {
     "elapsed": 1664,
     "status": "ok",
     "timestamp": 1600309812858,
     "user": {
      "displayName": "Vikram Voleti",
      "photoUrl": "",
      "userId": "03629638667557556728"
     },
     "user_tz": 240
    },
    "id": "cM1rAlPOq12Q",
    "outputId": "44759988-300f-4e2e-bbf0-3829c44a9bc6"
   },
   "outputs": [
    {
     "data": {
      "image/png": "[encoded data removed]",
      "text/plain": [
       "<Figure size 432x288 with 1 Axes>"
      ]
     },
     "metadata": {
      "needs_background": "light",
      "tags": []
     },
     "output_type": "display_data"
    }
   ],
   "source": [
    "plt.plot(range(1, 100), [get_test_error(k) for k in range(1, 100)], label='test error')\n",
    "plt.legend()\n",
    "plt.xlabel('number of neighbors')\n",
    "plt.show()"
   ]
  },
  {
   "cell_type": "markdown",
   "metadata": {
    "colab_type": "text",
    "id": "ZPamvznSq12V"
   },
   "source": [
    "## Experimenting"
   ]
  },
  {
   "cell_type": "markdown",
   "metadata": {
    "colab_type": "text",
    "id": "nPgFdHnPq12X"
   },
   "source": [
    "Now that everything is working properly, it is time to play with the model in order to better understand the different parameters. Work directly with the code above to run these tests.\n",
    "\n",
    "- Try different values for the radius of the Parzen windows classifier, and plot a similar figure than the one you made in the previous section. Which of the two algorithms is more robust to its hyperparameter on this dataset?\n",
    "\n",
    "- Vary the size of `train_set` and `test_set` and observe the impact that it has on the test error and the decision boundary\n",
    "\n",
    "- Divide the training set into 3 parts: `train_set`, `valid_set` and `test_set` (of size 100, 25 and 25, for example). Train $k$-nn on `train_set`, then choose the optimal $k$ using the `valid_set` and finally obtain an estimate of the generalization error of your model by testing on `test_set`. This time, use all 4 features of the dataset. What do you think the validation set is used for?\n",
    "  - Is there a difference between the validation error and the test error for the optimal $k$ found using the validation set? Should there be?\n",
    "\n",
    "- Uncomment the line `random.seed(3395)` and run your code multiple times to get statistics on the validation and test errors. You can write a `for` loop to execute the same piece of code multiple times; 10 times should be enough. Calculate the mean and standard deviation for each error.\n",
    "\n",
    "Do not hesitate to validate your answers by asking questions."
   ]
  },
  {
   "cell_type": "code",
   "execution_count": null,
   "metadata": {
    "colab": {},
    "colab_type": "code",
    "id": "qQZGsoagMSdd"
   },
   "outputs": [],
   "source": []
  }
 ],
 "metadata": {
  "colab": {
   "collapsed_sections": [],
   "name": "Neighborhood Classifiers and decision boundaries SOLUTION.ipynb",
   "provenance": [
    {
     "file_id": "1pGt1Z4jJLrdXMBc-5GT0KrcQAfbYuQR2",
     "timestamp": 1600302581183
    },
    {
     "file_id": "1fHALgrQXP9T-LvnAE4wpnANeqmfGIJ-I",
     "timestamp": 1600117905007
    }
   ],
   "toc_visible": true
  },
  "kernelspec": {
   "display_name": "Python 3",
   "language": "python",
   "name": "python3"
  },
  "language_info": {
   "codemirror_mode": {
    "name": "ipython",
    "version": 3
   },
   "file_extension": ".py",
   "mimetype": "text/x-python",
   "name": "python",
   "nbconvert_exporter": "python",
   "pygments_lexer": "ipython3",
   "version": "3.8.5"
  }
 },
 "nbformat": 4,
 "nbformat_minor": 4
}
