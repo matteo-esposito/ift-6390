{
  "nbformat": 4,
  "nbformat_minor": 0,
  "metadata": {
    "kernelspec": {
      "display_name": "Python 3",
      "language": "python",
      "name": "python3"
    },
    "language_info": {
      "codemirror_mode": {
        "name": "ipython",
        "version": 3
      },
      "file_extension": ".py",
      "mimetype": "text/x-python",
      "name": "python",
      "nbconvert_exporter": "python",
      "pygments_lexer": "ipython3",
      "version": "3.6.4"
    },
    "colab": {
      "name": "2020_IFT6390_Lab3_EN_Bayes_Classifier.ipynb",
      "provenance": [],
      "collapsed_sections": []
    }
  },
  "cells": [
    {
      "cell_type": "markdown",
      "metadata": {
        "id": "4rlfAJ5K2S_Q",
        "colab_type": "text"
      },
      "source": [
        "# Bayes Classifier and Maximum Likelihood for a multivariate Gaussian density"
      ]
    },
    {
      "cell_type": "markdown",
      "metadata": {
        "id": "eS0-skWZ2S_S",
        "colab_type": "text"
      },
      "source": [
        "## Preface"
      ]
    },
    {
      "cell_type": "markdown",
      "metadata": {
        "id": "4-GU7DBd2S_T",
        "colab_type": "text"
      },
      "source": [
        "Begin, if necessary, by recalling the course notes on the [Bayes classifier](https://studium.umontreal.ca/pluginfile.php/4027948/mod_resource/content/4/7_bayes_classifier-en.pdf) and the principle of [maximum likelihood](https://studium.umontreal.ca/pluginfile.php/4003963/mod_resource/content/4/5_gaussian_distribution_en.pdf)."
      ]
    },
    {
      "cell_type": "code",
      "metadata": {
        "id": "TdnNh38dSO0A",
        "colab_type": "code",
        "colab": {}
      },
      "source": [
        "import numpy as np\n",
        "import matplotlib.pyplot as plt\n",
        "import matplotlib\n",
        "from ipywidgets import interact, SelectMultiple, fixed, Checkbox, IntRangeSlider, IntSlider, FloatSlider\n",
        "import ipywidgets as widgets\n",
        "matplotlib.rcParams['figure.figsize'] = [10,5]\n",
        "plt.style.use('fivethirtyeight')"
      ],
      "execution_count": 1,
      "outputs": []
    },
    {
      "cell_type": "markdown",
      "metadata": {
        "id": "Zl9aa2Gc2S_U",
        "colab_type": "text"
      },
      "source": [
        "## Bayes classifier"
      ]
    },
    {
      "cell_type": "markdown",
      "metadata": {
        "id": "0WmSTERQ2S_V",
        "colab_type": "text"
      },
      "source": [
        "Today we are going to build a **multi-class Bayes classifier**. This means that instead of directly modeling $ p (\\mbox{class} \\ | \\ \\mbox{example}) $ (or $ p (y \\ | \\ x) $), we will instead use the Bayes equation\n",
        "\n",
        "$$ p (\\mbox{class} \\ | \\ \\mbox{example}) = \\frac{p (\\mbox{example} \\ | \\ \\mbox{class})\\ p (\\mbox {class})} {\\sum_{c'= 1}^{m} p(\\mbox{example}\\ | \\ c')\\ p(c')} $$\n",
        "\n",
        "and model the different pieces. In fact, we just need to model the numerator since the denominator is a normalization constant.\n",
        "\n",
        "The term $ p (\\mbox{class}) $ or $p(c')$ represents the prior probability of a class, that is, our a priori belief - before we have seen any example - about the probability that an unknown example belongs to this class. We will represent this belief a priori for a class by the frequency of the latter in the training data: $ \\frac{n_c}{n} $ where $ n_c $ = number of examples of the class $ c $, and $ n $ = number of training examples. Hence, $ p(\\mbox{class}) = n_c / n $"
      ]
    },
    {
      "cell_type": "markdown",
      "metadata": {
        "id": "2xceEjDRNXAV",
        "colab_type": "text"
      },
      "source": [
        "\n",
        "We will use **multivariate Gaussian densities** to model the different $ p (\\mbox{example} \\ | \\ \\mbox{class}) $. This means that **for each class** $c$, we will assume that the \"true\" distribution $ p (\\mbox{example} \\ | \\ \\mbox{class}) $ has the form of a multivariate Gaussian for which we will try to learn the parameters $ \\mu_c $ and $ \\Sigma_c $."
      ]
    },
    {
      "cell_type": "markdown",
      "metadata": {
        "id": "543k0ZGaQuwK",
        "colab_type": "text"
      },
      "source": [
        "## Univariate Gaussian"
      ]
    },
    {
      "cell_type": "markdown",
      "metadata": {
        "id": "WWNcevdUh_rE",
        "colab_type": "text"
      },
      "source": [
        "A **univariate** Gaussian density is a Gaussian distribution in **one** variable. Formula-wise, it is defined as ([Gaussian function](https://en.wikipedia.org/wiki/Gaussian_function)):\n",
        "\n",
        "$$\n",
        "p(x\\ | \\ \\mu, \\sigma) = \\frac{1}{\\sigma \\sqrt{2\\pi}}\\exp\\left(-\\frac{1}{2}\\frac{(x - \\mu)^2}{\\sigma^2}\\right)\n",
        "$$\n",
        "\n",
        "i.e. a point $x$ has the above probability of belonging to that Gaussian function with $\\mu$ and $\\sigma$.\n",
        "\n",
        "Code the above equation in the following function `univariate_prob`:"
      ]
    },
    {
      "cell_type": "code",
      "metadata": {
        "id": "Jq_pWTu4SAqD",
        "colab_type": "code",
        "colab": {}
      },
      "source": [
        "def univariate_prob(x, mu, sigma):\n",
        "  assert sigma > 0.0\n",
        "  prob = # ---> WRITE CODE HERE\n",
        "  return prob"
      ],
      "execution_count": null,
      "outputs": []
    },
    {
      "cell_type": "markdown",
      "metadata": {
        "id": "g7bEPpBumsI8",
        "colab_type": "text"
      },
      "source": [
        "Play with multiple univariate Gaussians:"
      ]
    },
    {
      "cell_type": "code",
      "metadata": {
        "id": "sGHYi3b3mm90",
        "colab_type": "code",
        "colab": {}
      },
      "source": [
        "def my_plot_gaussian(X, pdf, mu, sigma):\n",
        "  plt.plot(X, pdf, label=f\"mu={mu:.02f}, sigma={sigma:.02f}\")\n",
        "  plt.legend()\n",
        "  plt.ylim([0, 0.5])\n",
        "  plt.xlabel('X')\n",
        "  plt.ylabel('pdf of Gaussian')\n",
        "\n",
        "X = np.linspace(-20, 20, 100)\n",
        "\n",
        "mu1, sigma1 = -2, 4\n",
        "pdf1 = [univariate_prob(x, mu1, sigma1) for x in X]\n",
        "my_plot_gaussian(X, pdf1, mu1, sigma1)\n",
        "\n",
        "mu2, sigma2 = 2, 6\n",
        "pdf2 = [univariate_prob(x, mu2, sigma2) for x in X]\n",
        "my_plot_gaussian(X, pdf2, mu2, sigma2)"
      ],
      "execution_count": null,
      "outputs": []
    },
    {
      "cell_type": "code",
      "metadata": {
        "id": "6LMqiCaKfdus",
        "colab_type": "code",
        "colab": {}
      },
      "source": [
        "@interact(\n",
        "    mu=FloatSlider(min=-5, max=5, value=0, description='Mean', continuous_update=False),\n",
        "    sigma=FloatSlider(min=0.0001, max=5, value=1, description='Std', continuous_update=False),\n",
        ")\n",
        "def interactive_gaussian(mu, sigma):\n",
        "  X = np.linspace(-20, 20, 200)\n",
        "  pdf = [univariate_prob(x, mu, sigma) for x in X]\n",
        "  my_plot_gaussian(X, pdf, mu, sigma)\n"
      ],
      "execution_count": null,
      "outputs": []
    },
    {
      "cell_type": "markdown",
      "metadata": {
        "id": "rqoGjChlOTXx",
        "colab_type": "text"
      },
      "source": [
        "## Fitting uni-dimsensional data to uni-variate Gaussian"
      ]
    },
    {
      "cell_type": "markdown",
      "metadata": {
        "id": "x9x3Gu-Ch8A6",
        "colab_type": "text"
      },
      "source": [
        "Suppose we are dealing with the following data:"
      ]
    },
    {
      "cell_type": "code",
      "metadata": {
        "id": "PCnHkuPXOPOD",
        "colab_type": "code",
        "colab": {
          "base_uri": "https://localhost:8080/",
          "height": 265
        },
        "outputId": "a3d7741b-0862-4c52-b699-b85fbc5326af"
      },
      "source": [
        "pts = np.array([0.0, 0.2, 0.4, 0.8, 1.0])\n",
        "classes = np.array([\"apple\", \"apple\", \"apple\", \"orange\", \"orange\"])\n",
        "new_pt = np.array(.5)\n",
        "\n",
        "plt.scatter(pts, np.array([0]*len(pts)), c=['C0', 'C0', 'C0', 'C1', 'C1'])\n",
        "for i, (x, s) in enumerate(zip(pts, classes)):\n",
        "  plt.text(x, -0.005, s)\n",
        "plt.scatter([new_pt], [0], c='r')\n",
        "plt.gca().axes.get_yaxis().set_visible(False)"
      ],
      "execution_count": null,
      "outputs": [
        {
          "output_type": "display_data",
          "data": {
            "image/png": "[encoded data removed]",
            "text/plain": [
              "<Figure size 432x288 with 1 Axes>"
            ]
          },
          "metadata": {
            "tags": [],
            "needs_background": "light"
          }
        }
      ]
    },
    {
      "cell_type": "markdown",
      "metadata": {
        "id": "vQhEf3iaXXLp",
        "colab_type": "text"
      },
      "source": [
        "### 1. Estimate mean and std\n",
        "\n",
        "We can choose to model the underlying distributions of each class as univariate Gaussians, with the mean and standard deviation calculated empirically from the data.\n",
        "\n",
        "Completed the code below with the empirical means and stds for each class:"
      ]
    },
    {
      "cell_type": "code",
      "metadata": {
        "id": "TeI6LLDkXtsm",
        "colab_type": "code",
        "colab": {}
      },
      "source": [
        "pts_apple =  # ---> WRITE CODE HERE\n",
        "mean_apple =  # ---> WRITE CODE HERE\n",
        "std_apple =  # ---> WRITE CODE HERE\n",
        "\n",
        "pts_orange =  # ---> WRITE CODE HERE\n",
        "mean_orange # ---> WRITE CODE HERE\n",
        "std_orange =  # ---> WRITE CODE HERE\n",
        "\n",
        "print(f\"mean_apple: {mean_apple:.02f} ; std_apple: {std_apple:.02f}\")\n",
        "print(f\"mean_orange: {mean_orange:.02f} ; std_orange: {std_orange:.02f}\")"
      ],
      "execution_count": null,
      "outputs": []
    },
    {
      "cell_type": "markdown",
      "metadata": {
        "id": "GRd3Q7SBncuy",
        "colab_type": "text"
      },
      "source": [
        "Plot the estimated Gaussians:"
      ]
    },
    {
      "cell_type": "code",
      "metadata": {
        "id": "wcq6ZGU_ZQXH",
        "colab_type": "code",
        "colab": {
          "base_uri": "https://localhost:8080/",
          "height": 297
        },
        "outputId": "c77da92f-396a-41d5-d4be-28d5b726234e"
      },
      "source": [
        "X = np.linspace(-0.5, 1.5, 100)\n",
        "\n",
        "pdf_apple = [univariate_prob(x, mean_apple, std_apple) for x in X]\n",
        "my_plot_gaussian(X, pdf_apple, mean_apple, std_apple)\n",
        "\n",
        "pdf_orange = [univariate_prob(x, mean_orange, std_orange) for x in X]\n",
        "my_plot_gaussian(X, pdf_orange, mean_orange, std_orange)\n",
        "\n",
        "plt.scatter(pts, np.array([-0.2]*len(pts)), c=['C0', 'C0', 'C0', 'C1', 'C1'])\n",
        "# for i, (x, s) in enumerate(zip(pts, classes)):\n",
        "#   plt.text(x, -0.5, s)\n",
        "plt.scatter([new_pt], [-0.2], c='r')"
      ],
      "execution_count": null,
      "outputs": [
        {
          "output_type": "execute_result",
          "data": {
            "text/plain": [
              "<matplotlib.collections.PathCollection at 0x7f487cf75eb8>"
            ]
          },
          "metadata": {
            "tags": []
          },
          "execution_count": 86
        },
        {
          "output_type": "display_data",
          "data": {
            "image/png": "[encoded data removed]",
            "text/plain": [
              "<Figure size 432x288 with 1 Axes>"
            ]
          },
          "metadata": {
            "tags": [],
            "needs_background": "light"
          }
        }
      ]
    },
    {
      "cell_type": "markdown",
      "metadata": {
        "id": "9UJusqE5a702",
        "colab_type": "text"
      },
      "source": [
        "### 2. Calculate likelihood of new point under the estimated distributions\n",
        "\n",
        "We can now calculate the **likelihood** of the red point belonging to either class, i.e. $p(\\mbox{red}\\ |\\ \\mbox{apple})$ and $p(\\mbox{red}\\ |\\ \\mbox{orange})$."
      ]
    },
    {
      "cell_type": "code",
      "metadata": {
        "id": "Hrz46KRSc59f",
        "colab_type": "code",
        "colab": {}
      },
      "source": [
        "p_red_given_apple = univariate_prob(new_pt, mean_apple, std_apple)\n",
        "p_red_given_orange = univariate_prob(new_pt, mean_orange, std_orange)\n",
        "print(f\"p(red | apple): {p_red_given_apple:.04f}; p(red | orange): {p_red_given_orange:.04f}\")"
      ],
      "execution_count": null,
      "outputs": []
    },
    {
      "cell_type": "markdown",
      "metadata": {
        "id": "mv6G0Pvgdx4r",
        "colab_type": "text"
      },
      "source": [
        "### 3. Estimate the class of the new point\n",
        "\n",
        "The probability of the red point being an apple or orange is given by the numerator in the Bayesian equation:\n",
        "\n",
        "$$p(\\mbox{apple}\\ |\\ \\mbox{red}) \\approx p(\\mbox{red}\\ |\\ \\mbox{apple})\\ p(\\mbox{apple})\\\\\n",
        "p(\\mbox{orange}\\ |\\ \\mbox{red}) \\approx p(\\mbox{red}\\ |\\ \\mbox{orange})\\ p(\\mbox{orange})\n",
        "$$\n",
        "\n",
        "where $p(\\mbox{apple})$ and $p(\\mbox{orange})$ are the a priori beliefs that the red point was an apple or an orange.\n",
        "\n",
        "Suppose it is equally probable a priori that any new point is an apple or an orange. Complete the following code:"
      ]
    },
    {
      "cell_type": "code",
      "metadata": {
        "id": "0_1zmeoBgDsg",
        "colab_type": "code",
        "colab": {}
      },
      "source": [
        "p_apple_given_red =  # ---> WRITE CODE HERE\n",
        "p_orange_given_red =  # ---> WRITE CODE HERE\n",
        "print(f\"p(apple | red): {p_apple_given_red:.04f}; p(orange | red): {p_orange_given_red:.04f}\")"
      ],
      "execution_count": null,
      "outputs": []
    },
    {
      "cell_type": "markdown",
      "metadata": {
        "id": "QKIJwLcgfJ3x",
        "colab_type": "text"
      },
      "source": [
        "\n",
        "Since $p(\\mbox{apple}\\ |\\ \\mbox{red}) > p(\\mbox{orange}\\ |\\ \\mbox{red})$, we can conclude that the red point is **probably** an apple!"
      ]
    },
    {
      "cell_type": "markdown",
      "metadata": {
        "id": "WdsZmKNfNqB_",
        "colab_type": "text"
      },
      "source": [
        "## Multi-variate Gaussian densities"
      ]
    },
    {
      "cell_type": "markdown",
      "metadata": {
        "id": "-mjIe3DhiI8u",
        "colab_type": "text"
      },
      "source": [
        "For higer-dimensional data, we use multivariate Gaussians, defined by a vector of means, and a matrix of covariances."
      ]
    },
    {
      "cell_type": "code",
      "metadata": {
        "id": "X6h66d9tiyXe",
        "colab_type": "code",
        "colab": {}
      },
      "source": [
        "def plot_2D_gaussian(mu, Sigma):\n",
        "  X1 = np.linspace(-3, 3, 100)\n",
        "  X2 = np.linspace(-3, 3, 100)\n",
        "  X1, X2 = np.meshgrid(X1, X2)\n",
        "  # Pack X and Y into a single 3-dimensional array\n",
        "  pos = np.empty(X1.shape + (2,))\n",
        "  pos[:, :, 0] = X1\n",
        "  pos[:, :, 1] = X2\n",
        "\n",
        "  # https://scipython.com/blog/visualizing-the-bivariate-gaussian-distribution/\n",
        "  def multivariate_gaussian(pos, mu, Sigma):\n",
        "      \"\"\"Return the multivariate Gaussian distribution on array pos.\n",
        "      pos is an array constructed by packing the meshed arrays of variables\n",
        "      x_1, x_2, x_3, ..., x_k into its _last_ dimension.\n",
        "      \"\"\"\n",
        "      n = mu.shape[0]\n",
        "      Sigma_det = np.linalg.det(Sigma)\n",
        "      Sigma_inv = np.linalg.inv(Sigma)\n",
        "      N = np.sqrt((2*np.pi)**n * Sigma_det)\n",
        "      # This einsum call calculates (x-mu)T.Sigma-1.(x-mu) in a vectorized\n",
        "      # way across all the input variables.\n",
        "      fac = np.einsum('...k,kl,...l->...', pos-mu, Sigma_inv, pos-mu)\n",
        "      return np.exp(-fac / 2) / N\n",
        "\n",
        "  # The distribution on the variables X, Y packed into pos.\n",
        "  pdf = multivariate_gaussian(pos, mu, Sigma)\n",
        "\n",
        "  from matplotlib import cm\n",
        "  fig = plt.figure()\n",
        "  ax = fig.gca(projection='3d')\n",
        "  ax.plot_surface(X1, X2, pdf, rstride=3, cstride=3, linewidth=1, antialiased=True,\n",
        "                  cmap=cm.viridis)\n",
        "  ax.set_xlabel('X1')\n",
        "  ax.set_ylabel('X2')"
      ],
      "execution_count": null,
      "outputs": []
    },
    {
      "cell_type": "markdown",
      "metadata": {
        "id": "q9-WqfO3n7Y3",
        "colab_type": "text"
      },
      "source": [
        "Play with the following multi-variate Gaussian:"
      ]
    },
    {
      "cell_type": "code",
      "metadata": {
        "id": "U__Q_hZvkwqD",
        "colab_type": "code",
        "colab": {
          "base_uri": "https://localhost:8080/",
          "height": 248
        },
        "outputId": "a770ed68-4f52-4f07-f08b-51e823d9cf05"
      },
      "source": [
        "mu = np.array([0., 1.])\n",
        "Sigma = np.array([[ 1. , -0.5], [-0.5,  0.8]])\n",
        "plot_2D_gaussian(mu, Sigma)"
      ],
      "execution_count": null,
      "outputs": [
        {
          "output_type": "display_data",
          "data": {
            "image/png": "[encoded data removed]",
            "text/plain": [
              "<Figure size 432x288 with 1 Axes>"
            ]
          },
          "metadata": {
            "tags": [],
            "needs_background": "light"
          }
        }
      ]
    },
    {
      "cell_type": "code",
      "metadata": {
        "id": "GNDJ0lEjgI60",
        "colab_type": "code",
        "colab": {}
      },
      "source": [
        "@interact(\n",
        "    mu1=FloatSlider(min=-2, max=2, value=0, description='Mean x1', continuous_update=False),\n",
        "    mu2=FloatSlider(min=-2, max=2, value=0, description='Mean x2', continuous_update=False),\n",
        "    s11=FloatSlider(min=0.01, max=2, value=1, description='sigma 11', continuous_update=False),\n",
        "    s12=FloatSlider(min=-2, max=2, value=0, description='sigma 12', continuous_update=False),\n",
        "    s21=FloatSlider(min=-2, max=2, value=0, description='sigma 21', continuous_update=False),\n",
        "    s22=FloatSlider(min=0.01, max=2, value=1, description='sigma 22', continuous_update=False),\n",
        ")\n",
        "def interactive_2D_gaussian(mu1, mu2, s11, s12, s21, s22):\n",
        "    Sigma = np.array([[s11 , s12], [s21,  s22]])\n",
        "    plot_2D_gaussian(np.array([mu1, mu2]), Sigma)"
      ],
      "execution_count": null,
      "outputs": []
    },
    {
      "cell_type": "markdown",
      "metadata": {
        "id": "T07nQ1g1h30P",
        "colab_type": "text"
      },
      "source": [
        "In practice, we will limit ourselves today to a particular case of this distribution: the **isotropic Guassian**, i.e. the covariance matrix $ \\Sigma_c $ of each Gaussian is diagonal and that each element of this diagonal is the same (we denote it as $ \\sigma^2 $). Thus we have a single parameter to control the expression of the covariance for each class. It's easier (for us and for the computer) to calculate, but it also means that our model is less powerful."
      ]
    },
    {
      "cell_type": "markdown",
      "metadata": {
        "id": "FtOfAAeHhufh",
        "colab_type": "text"
      },
      "source": [
        "## Fitting data to Multi-variate Gaussians\n",
        "\n",
        "Hence, we have a very simple parametric model for each class $c$. The parameters are the average $ \\mu_c $ (a vector of the same dimension as the dimension of the system input) and the variance $ \\sigma^2_c $ (a single scalar in our simple model, which will multiply the identity matrix). We are going to learn this model with the **maximum likelihood principle**. For each class, we will find the values of the parameters that maximize the log-likelihood of the training data from this class:\n",
        "\n",
        "$$ \\log \\prod_i^n p(X = x_i) $$\n",
        "\n",
        "For an isotropic Gaussian of dimension $d$, the maximum likelihood estimators of $\\mu$ and $\\sigma^2$ are given by the empirical mean and variance: \n",
        "\n",
        "$$\\mu_{ML} = \\frac{1}{n} \\sum_{i=1}^{n} x_i$$\n",
        "\n",
        "$$\\sigma_{ML}^2 = \\frac{1}{nd} \\sum_{i=1}^{n} (x_i-\\mu_{ML})^T(x_i-\\mu_{ML})$$\n",
        "\n",
        "Having found the parameters that maximize the likelihood for each class, we can calculate each $ p (\\mbox{example} \\ |  \\ \\mbox{class}) $. It is now sufficient to apply the Bayes rule in order to classify a new example. More precisely, we want to choose, for an example, the class that maximizes $ p(\\mbox{example} \\ | \\ \\mbox{class}) p(\\mbox{class}) $ or, equivalently, $ \\log (p (\\mbox{example } \\ | \\ \\mbox{class} ) p(\\mbox{class})) $. **At test time, our classifier needs to evaluate this quantity for each class, and use the obtained values to assign a class label**."
      ]
    },
    {
      "cell_type": "markdown",
      "metadata": {
        "id": "44PQHAbK2S_b",
        "colab_type": "text"
      },
      "source": [
        "## Model"
      ]
    },
    {
      "cell_type": "markdown",
      "metadata": {
        "id": "0oRzkhCt2S_f",
        "colab_type": "text"
      },
      "source": [
        "For the `GaussianMaxLikelihood` class:\n",
        " \n",
        "1. **Estimate parameters** mu ($\\mu$) and sigma_sq ($ \\sigma^2 $), the mean and the variance in `GaussianMaxLikelihood.train`. \n",
        "2. **Calculate the log likelihood** of a point under the Gaussian density function in `GaussianMaxLikelihood.loglikelihood`, store it in the variable `log_prob`, and **return it**.\n",
        "  \n",
        "In `__init__`, we initialize `self.mu` and `self.sigma_sq`. But both variables will be updated when the `train` function is called."
      ]
    },
    {
      "cell_type": "code",
      "metadata": {
        "id": "_SXw79kz2S_k",
        "colab_type": "code",
        "colab": {}
      },
      "source": [
        "class GaussianMaxLikelihood:\n",
        "    def __init__(self, n_dims):\n",
        "        self.n_dims = n_dims\n",
        "        self.mu = np.zeros(n_dims)\n",
        "        # We only save a scalar standard deviation because our model is the isotropic Gaussian\n",
        "        self.sigma_sq = 1.0\n",
        "\n",
        "    # For a training set, the function should compute the ML estimator of the mean and the variance\n",
        "    def train(self, train_data):\n",
        "        # Here, you have to find the mean and variance of the train_data data and put it in self.mu and self.sigma_sq\n",
        "        self.mu = # ---> WRITE CODE HERE\n",
        "        self.sigma_sq = # ---> WRITE CODE HERE\n",
        "        \n",
        "    # Returns a vector of size nb. of test ex. containing the log probabilities of each test example under the model.\n",
        "    # exemple test\n",
        "    def loglikelihood(self, test_data):\n",
        "        # the following line calculates log(normalization constant) i.e. log( 1/(sigma sqrt(2pi)) )\n",
        "        c = self.n_dims * -(np.log(np.sqrt(self.sigma_sq)) + (1 / 2) * np.log(2 * np.pi))\n",
        "        log_prob = # ---> WRITE CODE HERE\n",
        "        return log_prob"
      ],
      "execution_count": null,
      "outputs": []
    },
    {
      "cell_type": "markdown",
      "metadata": {
        "id": "vJjOWRUh2S_q",
        "colab_type": "text"
      },
      "source": [
        "For class `BayesClassifier`:\n",
        "\n",
        "  - **Complete** `bayes_classifier.loglikelihood`\n",
        "  \n",
        "`self.maximum_likelihood_models` is a list of models per class that allows log likelihood evaluations using a `loglikelihood` method. It is of size equal to the number of classes.\n",
        "\n",
        "`self.priors` is a list of scalars representing the prior probabilities of the classes, in the same order of classes as `self.maximum_likelihood_models`.\n"
      ]
    },
    {
      "cell_type": "code",
      "metadata": {
        "id": "hEZKOQzi2S_r",
        "colab_type": "code",
        "colab": {}
      },
      "source": [
        "class BayesClassifier:\n",
        "    def __init__(self, maximum_likelihood_models, priors):\n",
        "        self.maximum_likelihood_models = maximum_likelihood_models\n",
        "        self.priors = priors\n",
        "        if len(self.maximum_likelihood_models) != len(self.priors):\n",
        "            print('The number of ML models must be equal to the number of priors!')\n",
        "        self.n_classes = len(self.maximum_likelihood_models)\n",
        "\n",
        "    # Returns a matrix of size number of test ex. times number of classes containing the log\n",
        "    # probabilities of each test example under each model, trained by ML.\n",
        "    def loglikelihood(self, test_data):\n",
        "\n",
        "        log_pred = np.zeros((test_data.shape[0], self.n_classes))\n",
        "\n",
        "        for i in range(self.n_classes):\n",
        "            # Here, we will have to use maximum_likelihood_models[i] and priors to fill in\n",
        "            # each column of log_pred (it's more efficient to do a entire column at a time)\n",
        "            log_pred[:, i] = # ---> WRITE CODE HERE\n",
        "\n",
        "        return log_pred"
      ],
      "execution_count": null,
      "outputs": []
    },
    {
      "cell_type": "markdown",
      "metadata": {
        "id": "sqbEYTWUtM0E",
        "colab_type": "text"
      },
      "source": [
        "## Train"
      ]
    },
    {
      "cell_type": "markdown",
      "metadata": {
        "id": "jTeHVkjc2S_v",
        "colab_type": "text"
      },
      "source": [
        "In this part, we will train a BayesClassifier on the iris dataset, according to the what we described in the Bayes Classifier section. We will use the classes BayesClassifier and GaussianMaxLikelihood.\n",
        "\n",
        "There are extra questions at the end of this notebook where you can play around.\n",
        "\n",
        "**Complete** the function `get_accuracy(test_inputs, test_labels)`, that takes as input a test set, and returns the trained classifier's (`classifier`) accuracy on this test set. Your function should return a number between 0 and 1.\n",
        "\n",
        "To make sure everything works fine, you can test your code by calling your function on the train dataset and val dataset (This part of the code after the function is provided for you).\n"
      ]
    },
    {
      "cell_type": "code",
      "metadata": {
        "id": "gGAH3AHd2S_x",
        "colab_type": "code",
        "colab": {}
      },
      "source": [
        "# We load the dataset\n",
        "import sys\n",
        "IN_COLAB = 'google.colab' in sys.modules\n",
        "if IN_COLAB:\n",
        "    iris = np.loadtxt('http://www.iro.umontreal.ca/~dift3395/files/iris.txt')\n",
        "else:\n",
        "    iris = np.loadtxt('iris.txt')\n",
        "\n",
        "# We split the dataset into input data, and labels\n",
        "iris_data = iris[:, :-1]\n",
        "iris_labels = iris[:, -1]\n",
        "\n",
        "# Seed the randomizer\n",
        "import random\n",
        "random.seed(3395)\n",
        "# Randomly choose indexes for the train and val dataset, say with 80-20 split\n",
        "num_data = iris_data.shape[0]\n",
        "inds = list(range(num_data))\n",
        "random.shuffle(inds)\n",
        "train_inds = inds[:int(0.8*num_data)]\n",
        "val_inds = inds[int(0.8*num_data):]\n",
        "\n",
        "# Split the data into train and val sets\n",
        "train_data = iris_data[train_inds, :]\n",
        "train_labels = iris_labels[train_inds]\n",
        "val_data = iris_data[val_inds, :]\n",
        "val_labels = iris_labels[val_inds]"
      ],
      "execution_count": null,
      "outputs": []
    },
    {
      "cell_type": "code",
      "metadata": {
        "id": "V8qKTHdDtbZV",
        "colab_type": "code",
        "colab": {}
      },
      "source": [
        "# We split the input data into three sub-datasets, corresponding to the classes 1, 2, and 3. \n",
        "# It is necessary to make such a split, in order to train a GaussianMaxLikelihood model per class.\n",
        "iris_train1 = train_data[train_labels==1, :]\n",
        "iris_train2 = train_data[train_labels==2, :]\n",
        "iris_train3 = train_data[train_labels==3, :]"
      ],
      "execution_count": null,
      "outputs": []
    },
    {
      "cell_type": "code",
      "metadata": {
        "id": "Gcr-M5XBt2CQ",
        "colab_type": "code",
        "colab": {}
      },
      "source": [
        "# We create a model per class (using maximum likelihood)\n",
        "model_class1 = GaussianMaxLikelihood(4)\n",
        "model_class2 = GaussianMaxLikelihood(4)\n",
        "model_class3 = GaussianMaxLikelihood(4)\n",
        "\n",
        "# We train each of them using the corresponding data\n",
        "model_class1.train(iris_train1)\n",
        "model_class2.train(iris_train2)\n",
        "model_class3.train(iris_train3)"
      ],
      "execution_count": null,
      "outputs": []
    },
    {
      "cell_type": "code",
      "metadata": {
        "id": "SGgnEf9Rt9BH",
        "colab_type": "code",
        "colab": {}
      },
      "source": [
        "# We create a list of all our models, and the list of prior values\n",
        "# Here the priors are calculated exactly because we know the number of representatives per class.\n",
        "model_ml = [model_class1, model_class2, model_class3]\n",
        "total_num = len(iris_train1) + len(iris_train2) + len(iris_train3)\n",
        "priors = [len(iris_train1)/(total_num), len(iris_train2)/(total_num), len(iris_train3)/(total_num)]"
      ],
      "execution_count": null,
      "outputs": []
    },
    {
      "cell_type": "code",
      "metadata": {
        "id": "14NyaacZuMD_",
        "colab_type": "code",
        "colab": {}
      },
      "source": [
        "# We create our classifier with our list of Gaussian models and our priors\n",
        "classifier = BayesClassifier(model_ml, priors)"
      ],
      "execution_count": null,
      "outputs": []
    },
    {
      "cell_type": "code",
      "metadata": {
        "id": "MGXqulyCuOfS",
        "colab_type": "code",
        "colab": {}
      },
      "source": [
        "# Returns a number between 0 and 1 representing the accuracy of the model on the test_inputs\n",
        "def get_accuracy(test_data, test_labels):\n",
        "    # Calculate the log-probabilities according to our model\n",
        "    logprob = # ---> WRITE CODE HERE\n",
        "\n",
        "    # Predict labels\n",
        "    classes_pred = # ---> WRITE CODE HERE\n",
        "    \n",
        "    # Calculate the accuracy by comparing the predicted labels with the actual labels\n",
        "    acc = # ---> WRITE CODE HERE\n",
        "\n",
        "    return acc"
      ],
      "execution_count": null,
      "outputs": []
    },
    {
      "cell_type": "code",
      "metadata": {
        "id": "ZHc5v_QlxBZy",
        "colab_type": "code",
        "colab": {}
      },
      "source": [
        "print(\"The training accuracy is : {:.2f} % \".format(100 * get_accuracy(train_data, train_labels)))\n",
        "print(\"The validation accuracy is : {:.2f} % \".format(100 * get_accuracy(val_data, val_labels)))"
      ],
      "execution_count": null,
      "outputs": []
    },
    {
      "cell_type": "markdown",
      "metadata": {
        "id": "Vzy_ryyk2S_1",
        "colab_type": "text"
      },
      "source": [
        "## Bonus questions"
      ]
    },
    {
      "cell_type": "markdown",
      "metadata": {
        "id": "rs3Ux-Ar2S_2",
        "colab_type": "text"
      },
      "source": [
        "- Change your code so that `GaussianMaxLikelihood` calculates 1) a diagonal covariance matrix (where we estimate the variance for each component / trait of the input) 2) a full covariance matrix. You can for example have a parameter `cov_type` that can be \"isotropic\", \"diagonal\" or \"full\". The `numpy.cov` and` numpy.var` commands will probably be useful.\n",
        "\n",
        "- Instead of using the whole iris dataset to train a `BayesClassifier`, peform a random split of the data (2/3, 1/3) to obtain a train set and a test set, and use the train set to train your classifier. Compare the obtained accuracies on the train set and the test set. Remember to adjust the code that defines `iris_train1`, `iris_train2`, `iris_train3`, and `priors` accordingly. Compare the train and test accuracies of 3 models: one that uses \"isotropic\" gaussian models, one that uses \"diagonal\" gaussian models, and one that uses \"full\" gaussian models.\n",
        "\n",
        "- Instead of using the 4 features to train the classifier, use only 2 and try to make nice visualizations as we did in Lab 2. You can of course use the utility functions from there to make your plots.\n",
        "\n",
        "\n",
        "- À la place d'utiliser le dataset complet iris pour entraîner `BayesClassifier`, performez une séparation aléatoire de (2/3, 1/3) afin d'obtenir un ensemble d'entraînement et un ensemble test. Comparez les exactitudes du classifieur obtenues à partir des ensembles train et test. Prenez soin d'ajuster le code qui définit `iris_train1`, `iris_train2`, `iris_train3` et `priors` en conséquence. Comparez l'exactitude des ensembles train et test des 3 modèles: gaussienne isotropique, gaussienne diagonale et gaussienne *complète*.\n",
        "\n",
        "- Plutôt que d'utiliser les 4 traits afin d'entraîner votre classifieur, utilisez seulement que deux caractéristiques et effectuer des analyses de visualisation telles que faites dans le lab 2. Vous pouvez biensûr faire usages des fonctions du lab 2 pour faire vos graphiques."
      ]
    }
  ]
}