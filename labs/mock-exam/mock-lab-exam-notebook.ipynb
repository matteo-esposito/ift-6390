{
 "cells": [
  {
   "cell_type": "markdown",
   "metadata": {},
   "source": [
    "## IFT 6390\n",
    "#### Fundamentals of Machine Learning Prep"
   ]
  },
  {
   "cell_type": "code",
   "execution_count": 3,
   "metadata": {},
   "outputs": [],
   "source": [
    "import numpy as np\n",
    "\n",
    "# %%\n",
    "'''\n",
    "# Plain Python\n",
    "# Python simple\n",
    "'''\n",
    "\n",
    "# %%\n",
    "'''\n",
    "### Ones at the End\n",
    "Given an int list X as input, return the same list, but with all the \"1\" at the end (i.e. all\n",
    "the elements exactly equal to 1), and the rest of the list must be in reverse order of occurrence.\n",
    "\n",
    "### Uns à la fin\n",
    "Étant donné une liste d'entiers en entrée, renvoyer la même liste, mais avec tout les \"1\" à la fin\n",
    "(c'est à dire tout les éléments exactement égaux à 1), et le reste de la liste doit être en ordre \n",
    "d'apparition inversé.\n",
    " \n",
    "* [1, 1, 1] -> [1, 1, 1]\n",
    "* [5, 9, -12, 3] -> [3, -12, 9, 5]\n",
    "* [1, 2, 3, 1] -> [3, 2, 1, 1]\n",
    "* [1, 5, 2, 1, 3, 1] -> [3, 2, 5, 1, 1, 1]\n",
    " '''\n",
    "\n",
    "\n",
    "# %%\n",
    "def ones_at_the_end(x):\n",
    "    \"\"\"\n",
    "    :param x: python int list\n",
    "    :return: python int list\n",
    "    \"\"\"\n",
    "    non_ones = []\n",
    "    ones = []\n",
    "    \n",
    "    for val in x:\n",
    "        if val != 1:\n",
    "            non_ones.append(val)\n",
    "        else:\n",
    "            ones.append(val)\n",
    "    \n",
    "    return non_ones[::-1] + ones\n",
    "    "
   ]
  },
  {
   "cell_type": "code",
   "execution_count": 4,
   "metadata": {},
   "outputs": [
    {
     "name": "stdout",
     "output_type": "stream",
     "text": [
      "[1, 1, 1]\n",
      "[3, -12, 9, 5]\n",
      "[3, 2, 1, 1]\n",
      "[3, 2, 5, 1, 1, 1]\n"
     ]
    }
   ],
   "source": [
    "for tc in [[1, 1, 1], [5, 9, -12, 3], [1, 2, 3, 1], [1, 5, 2, 1, 3, 1]]:\n",
    "    print(ones_at_the_end(tc))"
   ]
  },
  {
   "cell_type": "code",
   "execution_count": 5,
   "metadata": {},
   "outputs": [],
   "source": [
    "# %%\n",
    "'''\n",
    "### Final Position\n",
    "Given a string of instructions 'up' 'down' 'left' 'right', return the end position of an agent\n",
    "starting at (0,0). The first coordinate is the x-axis ('left' decreases its\n",
    "value of 1 and 'right' increases its value of 1), and the second one is the y-axis ('down'\n",
    "decreases its value of 1 and 'up' increases its value of 1).\n",
    "(Hint : if X is a python string, X.split() will return the list of its words)\n",
    "\n",
    "### Position Finale\n",
    "Étant donné une chaîne de caractères formée d'instructions 'up' (haut), 'down' (bas),\n",
    "'left' (gauche), 'right' (droite), retourner la position finale d'un agent qui commence\n",
    "à la position (0,0). La première coordonnée est l'axe des abcisses ('left' decrémente sa\n",
    "valeur de 1 et 'right' augmente sa valeur de 1), et la seconde coordonnée est l'axe des\n",
    "ordonnées ('down' décremente sa valeur de 1 et 'up' augmente sa valeur de 1).\n",
    "(Indice : si X est une chaîne de caractères python, X.split() la retournera sous forme d'une\n",
    "liste de mots)\n",
    "\n",
    "* \"right right\" -> (2, 0)\n",
    "* \"right left up\" -> (0, 1)\n",
    "* \"down down left right up down\" -> (0, -2)\n",
    "'''\n",
    "\n",
    "\n",
    "# %%\n",
    "def final_position(instructions):\n",
    "    \"\"\"\n",
    "    :param instructions: string\n",
    "    :return: int tuple\n",
    "    \"\"\"\n",
    "    pos = {\"x\":0, \"y\":0}\n",
    "    mapping = {\n",
    "        \"right\": {\"x\":1, \"y\":0},\n",
    "        \"left\": {\"x\":-1, \"y\":0},\n",
    "        \"up\": {\"x\":0, \"y\":1},\n",
    "        \"down\": {\"x\":0, \"y\":-1}\n",
    "    }\n",
    "    \n",
    "    for ins in instructions.split( ):\n",
    "        pos[\"x\"] += mapping[ins][\"x\"]\n",
    "        pos[\"y\"] += mapping[ins][\"y\"]\n",
    "        \n",
    "    return tuple(pos.values())"
   ]
  },
  {
   "cell_type": "code",
   "execution_count": 6,
   "metadata": {},
   "outputs": [
    {
     "name": "stdout",
     "output_type": "stream",
     "text": [
      "(2, 0)\n",
      "(0, 1)\n",
      "(0, -2)\n"
     ]
    }
   ],
   "source": [
    "for tc in [\"right right\", \"right left up\", \"down down left right up down\"]:\n",
    "    print(final_position(tc))"
   ]
  },
  {
   "cell_type": "code",
   "execution_count": 7,
   "metadata": {},
   "outputs": [],
   "source": [
    "# %%\n",
    "'''\n",
    "### Steps to One\n",
    "Let f be the following operation on integers :\n",
    "if i is even, f(i) = i / 2\n",
    "if i is odd, f(i) = 3i + 1\n",
    "Let us now consider the algorithm that applies recursively operation f to an input i\n",
    "until it reaches i=1 (we assume it will always do, eventually).\n",
    "e.g. for i=7 we obtain the following iterations :\n",
    "7 -> 22 -> 11 -> 34 -> 17 -> 52 -> 26 -> 13 -> 40 -> 20 -> 10 -> 5 -> 16 -> 8 -> 4 -> 2 -> 1\n",
    "Implement a function which, given an int i as input, returns the number of steps required\n",
    "to reach 1 when starting from i using this algorithm (i.e. number of times f is applied)\n",
    "\n",
    "### Nombre d'Étapes Jusqu'à Un\n",
    "Soit f l'opération sur les entiers suivante :\n",
    "si i est pair, f(i) = i / 2\n",
    "si i est impair, f(i) = 3i + 1\n",
    "Considérons maintenant l'algorithme qui applique recursivement l'opération f à une entrée i\n",
    "jusqu'à atteindre i=1 (Nous supposons que ce sera toujours le cas au bout d'un certain temps).\n",
    "e.g. pour i=7 nous obtenons les étapes suivantes :\n",
    "7 -> 22 -> 11 -> 34 -> 17 -> 52 -> 26 -> 13 -> 40 -> 20 -> 10 -> 5 -> 16 -> 8 -> 4 -> 2 -> 1\n",
    "Implémentez une fonction qui, étant donné un entier i en entrée, retourne le nombre d'étapes\n",
    "nécessaires pour atteindre 1 en partant de i en utilisant cet algorithme (i.e. le nombre de\n",
    "fois où f est appliquée)\n",
    "\n",
    "* 1 -> 0\n",
    "* 8 -> 3\n",
    "* 3 -> 7\n",
    "* 7 -> 16 (above example / exemple ci-dessus)\n",
    "'''\n",
    "\n",
    "\n",
    "# %%\n",
    "def steps_to_one(i):\n",
    "    \"\"\"\n",
    "    :param i: int\n",
    "    :return:  int\n",
    "    \"\"\"\n",
    "    def even_f(x):\n",
    "        return x / 2\n",
    "    \n",
    "    def odd_f(x):\n",
    "        return 3 * x + 1\n",
    "    \n",
    "    count = 0\n",
    "    \n",
    "    while i != 1:\n",
    "        count += 1\n",
    "        if i % 2 == 0:\n",
    "            i = even_f(i)\n",
    "        else:\n",
    "            i = odd_f(i)\n",
    "            \n",
    "    return count\n"
   ]
  },
  {
   "cell_type": "code",
   "execution_count": 8,
   "metadata": {},
   "outputs": [
    {
     "name": "stdout",
     "output_type": "stream",
     "text": [
      "* 1 -> 0\n",
      "* 8 -> 3\n",
      "* 3 -> 7\n",
      "* 7 -> 16\n"
     ]
    }
   ],
   "source": [
    "for tc in [1, 8, 3 ,7]:\n",
    "    print(f\"* {tc} -> {steps_to_one(tc)}\")"
   ]
  },
  {
   "cell_type": "code",
   "execution_count": 9,
   "metadata": {},
   "outputs": [],
   "source": [
    "# %%\n",
    "'''\n",
    "### Find Bins (BONUS FOR IFT3395 - UNDERGRAD)\n",
    "Given a list of k * h different floats, return a list of k+1 floats in increasing order that\n",
    "form bins (a bin is the interval between two consecutive floats of the output)\n",
    "with exactly h input floats strictly inside each bin. In other words, if the output is\n",
    "[x1, x2, ..., x(k+1)], there should be exactly h input float in ]x1, x2[, h input floats\n",
    "in ]x2, x3[, ..., h input floats in ]xk, x(k+1)[\n",
    "Solutions are not unique, but any valid output is accepted.\n",
    "\n",
    "### Histogrammes (BONUS POUR IFT3395 - BAC)\n",
    "Étant donnée une liste de k * h nombres réels distincts, retourner une liste de k+1 nombres\n",
    "réels en ordre croissant qui forment des intervalles (entre deux nombre réels consécutifs)\n",
    "avec exactement h nombre réels d'entrée strictement contenu dans chaque interval. En d'autres\n",
    "termes, si la sortie est [x1, x2, ..., x(k+1)], il doit y avoir exactement h entrées dans\n",
    "]x1, x2[, h entrées dans ]x2, x3[, ..., h entrées dans ]xk, x(k+1)[\n",
    "Les solutions ne sont pas uniques, mais toute réponse valide sera acceptée.\n",
    "\n",
    "* [2, 3, 4, 2.2], k=2 -> [1, 2.5, 5] or [-1000, 2.21, 1000] or ...\n",
    "* [4, 3, 8, 6], k=4   -> [2.5, 3.5, 4.5, 6.5, 8.5] or [-10, 3.1, 4.9, 6.65, 100] or ...\n",
    "'''\n",
    "\n",
    "\n",
    "# %%\n",
    "def find_bins(input_list, k):\n",
    "    \"\"\"\n",
    "    :param input_list: list of k*h floats\n",
    "    :param k: int\n",
    "    :return: list of k+1 floats\n",
    "    \"\"\"\n",
    "    h = len(input_list) - k\n",
    "    \n",
    "    "
   ]
  },
  {
   "cell_type": "code",
   "execution_count": 10,
   "metadata": {},
   "outputs": [
    {
     "ename": "TypeError",
     "evalue": "find_bins() missing 1 required positional argument: 'k'",
     "output_type": "error",
     "traceback": [
      "\u001b[0;31m---------------------------------------------------------------------------\u001b[0m",
      "\u001b[0;31mTypeError\u001b[0m                                 Traceback (most recent call last)",
      "\u001b[0;32m<ipython-input-10-d4f6b677adde>\u001b[0m in \u001b[0;36m<module>\u001b[0;34m\u001b[0m\n\u001b[1;32m      1\u001b[0m \u001b[0;32mfor\u001b[0m \u001b[0mtc\u001b[0m \u001b[0;32min\u001b[0m \u001b[0;34m[\u001b[0m\u001b[0;34m[\u001b[0m\u001b[0;36m2\u001b[0m\u001b[0;34m,\u001b[0m \u001b[0;36m3\u001b[0m\u001b[0;34m,\u001b[0m \u001b[0;36m4\u001b[0m\u001b[0;34m,\u001b[0m \u001b[0;36m2.2\u001b[0m\u001b[0;34m]\u001b[0m\u001b[0;34m,\u001b[0m \u001b[0;34m[\u001b[0m\u001b[0;36m4\u001b[0m\u001b[0;34m,\u001b[0m \u001b[0;36m3\u001b[0m\u001b[0;34m,\u001b[0m \u001b[0;36m8\u001b[0m\u001b[0;34m,\u001b[0m \u001b[0;36m6\u001b[0m\u001b[0;34m]\u001b[0m\u001b[0;34m]\u001b[0m\u001b[0;34m:\u001b[0m\u001b[0;34m\u001b[0m\u001b[0;34m\u001b[0m\u001b[0m\n\u001b[0;32m----> 2\u001b[0;31m     \u001b[0mprint\u001b[0m\u001b[0;34m(\u001b[0m\u001b[0;34mf\"* {tc} -> {find_bins(tc)}\"\u001b[0m\u001b[0;34m)\u001b[0m\u001b[0;34m\u001b[0m\u001b[0;34m\u001b[0m\u001b[0m\n\u001b[0m",
      "\u001b[0;31mTypeError\u001b[0m: find_bins() missing 1 required positional argument: 'k'"
     ]
    }
   ],
   "source": [
    "for tc in [[2, 3, 4, 2.2], [4, 3, 8, 6]]:\n",
    "    print(f\"* {tc} -> {find_bins(tc)}\")"
   ]
  },
  {
   "cell_type": "code",
   "execution_count": 11,
   "metadata": {},
   "outputs": [],
   "source": [
    "# %%\n",
    "'''\n",
    "# Numpy\n",
    "'''\n",
    "\n",
    "# %%\n",
    "'''\n",
    "### Even Odd Ordered\n",
    "Given a 1-D array of int, return a 1-D array where even numbers are at the beginning and the\n",
    "odd numbers are at the end, and these numbers are arranged in the order of occurrence\n",
    "\n",
    "### Pairs et Impairs Ordonnés\n",
    "Étant donné un tableau 1D d'entiers, retourner un tableau 1D où les entiers pairs sont au début\n",
    "et les entiers impairs sont à la fin, dans le même ordre d'apparition qu'en entrée\n",
    "\n",
    "* [1, 2, -3, 4, 7, 4, -6, 3, -1] -> [2, 4, 4, -6, 1, -3, 7, 3, -1]\n",
    "* [-5, -4, -3, -2, -1, 0] -> [-4, -2, 0, -5, -3, -1]\n",
    "'''\n",
    "\n",
    "\n",
    "# %%\n",
    "def even_odd_ordered(X):\n",
    "    \"\"\"\n",
    "    :param X: np.array of shape (n,)\n",
    "    :return: np.array of shape (n,)\n",
    "    \"\"\"\n",
    "    even = np.array()\n",
    "    ret = np.array()\n",
    "    for val in X:\n",
    "        if val % -2 == 0 or val % 2 == 0:\n",
    "            even = even.append(val)\n",
    "        else:\n",
    "            odd = odd.append(val)\n",
    "    b = np.append(b, k)"
   ]
  },
  {
   "cell_type": "code",
   "execution_count": 12,
   "metadata": {},
   "outputs": [
    {
     "data": {
      "text/plain": [
       "0"
      ]
     },
     "execution_count": 12,
     "metadata": {},
     "output_type": "execute_result"
    }
   ],
   "source": [
    "3 % 3"
   ]
  },
  {
   "cell_type": "code",
   "execution_count": 13,
   "metadata": {},
   "outputs": [],
   "source": [
    "# %%\n",
    "'''\n",
    "### Dataset Normalization\n",
    "Implement a function that standardize a dataset:\n",
    "given an input matrix X of size n x (d+1), where the first d columns are the features and the\n",
    "last one the target,\n",
    "return a data matrix of the same shape where the data has been normalized (mean 0 for each\n",
    "feature and stdv 1).\n",
    "Note that the last column of the input array is preserved in the returned output\n",
    "\n",
    "### Normalisation de Jeu de Données\n",
    "Implémentez une fonction qui standardise un jeu de données:\n",
    "étant donné en entrée une matrice X de taille n x (d+1), dont les d premières colonnes sont\n",
    "les attributs et la dernière est l'objectif,\n",
    "retourner une matrice de données de la même forme où les données ont été normalisées (chaque\n",
    "attribut a une moyenne de 0 et une deviation standard de 1).\n",
    "Remarque : la dernière colonne du tableau d'entrée est préservée dans le tableau de sortie\n",
    "\n",
    "Input Array / Tableau d'entrée:\n",
    "[[1., -1., 2., 1],\n",
    " [2., 0., 0., 2],\n",
    " [0., 1., -1., 3]]\n",
    "\n",
    "Output Array / Tableau de sortie:        \n",
    "[[0., -1.22474486, 1.3363062, 1],\n",
    "[1.22474486, 0., -0.26726124, 2],\n",
    "[-1.22474486, 1.22474486, -1.06904496, 3]]\n",
    "'''\n",
    "\n",
    "\n",
    "# %%\n",
    "def data_normalization(X):\n",
    "    \"\"\"\n",
    "    :param X: np.array of shape n x (d+1)\n",
    "    :return: np.array of shape n x (d+1)\n",
    "    \"\"\"\n",
    "    pass"
   ]
  },
  {
   "cell_type": "code",
   "execution_count": 14,
   "metadata": {},
   "outputs": [],
   "source": [
    "# %%\n",
    "'''\n",
    "### Entropy of a Valid Discrete Probability Distribution\n",
    "Find if a discrete probability distribution is valid. If valid, compute the entropy of the\n",
    "distribution else return `None`\n",
    "- A discrete probability distribution is valid if its entries are positive and sum to 1\n",
    "- The entropy of a discrete probability distribution is defined as:\n",
    "$entropy(p) = - \\sum_{i=1}^N ( p_i * log_2(p_i))$\n",
    "- if $p_i=0$ for some $i$, we adopt the convention $0*log_2(0) = 0$\n",
    "Note: You are required to use the base of the logarithm as 2.\n",
    "\n",
    "### Entropie d'Une Distribution de Probabilité Discrète Valide\n",
    "Déterminer si une distribution de probabilité discrète est valide. Si elle est valide, calculer l'entropie de la\n",
    "distribution sinon retourner `None`\n",
    "- Une distribution de probabilité discrète est valide si ses valeurs sont positives et ont une somme de 1\n",
    "- L'entropie d'une distribution de probabilité discrète est definie comme:\n",
    "$entropy(p) = - \\sum_{i=1}^N ( p_i * log_2(p_i))$\n",
    "- si $p_i=0$ pour un certain $i$, nous adoptons la convention $0*log_2(0) = 0$\n",
    "Remarque: Vous devez utiliser le logarithme de base 2.\n",
    "\n",
    "* [0.6, 0.1, 0.25, 0.05] -> 1.490468  (valid probability distribution, so we return entropy / distribution\n",
    "de probabilité valide, alors on retourne l'entropie)\n",
    "* [0.5, 0.1, 0.25] -> None   (sum of the distribution is not one / la somme de la distribution n'est pas un)\n",
    "* [0.3, 0.75, -0.3, 0.25] -> None   (all probability values of the distribution are not positive / certaines valeurs\n",
    "ne sont pas positives)\n",
    "'''\n",
    "\n",
    "\n",
    "# %%\n",
    "def entropy(p):\n",
    "    \"\"\"\n",
    "    :param p: np.array of shape (n,)\n",
    "    :return: float or None\n",
    "    \"\"\"\n",
    "    pass"
   ]
  },
  {
   "cell_type": "code",
   "execution_count": 15,
   "metadata": {},
   "outputs": [],
   "source": [
    "# %%\n",
    "'''\n",
    "### Heavyball Optimizer (BONUS FOR IFT3395 - UNDERGRADS)\n",
    "In this question, we will be implementing the widely used  ‘Heavyball’ optimizer.\n",
    "We want to find the minimum value of some function with parameter $x$ of size (n,). \n",
    "We update $x$ using gradient descent and a _momentum_ term.\n",
    "To be clear, at iteration $k$, let the gradient of the function at $x_{k}$ be $g_{k}$.\n",
    "We update the value of $x$ with the formula:\n",
    "$$x_{k+1} = x_{k} - \\alpha * g_{k} + \\beta * (x_{k} - x_{k-1}), $$\n",
    "where $\\alpha$ and $\\beta$ are hyperparameters of the algorithm. \n",
    "\n",
    "The function below takes as argument\n",
    "\n",
    "* x the initial parameter $x_1$\n",
    "* inputs = $[g_{1}, g_{2},..,g_{t}]$  a list of precomputed gradients\n",
    "* $\\alpha$ and $\\beta$\n",
    "\n",
    "We ask you to return the final parameter $x_{t+1}$, under the assumption that $x_{0}$ is a zero vector.\n",
    "\n",
    "e.g.\n",
    "Take $x = [1.5, 2.0]$, `inputs` = $[[1.5, 2.0]]$, $\\alpha = 0.9$, $\\beta = 0.1$. \n",
    "\n",
    "Then we have: $x_{0} = [0., 0.], x_{1} = [1.5, 2.0]$.\n",
    "\n",
    "The length of the list inputs is 1, $g_{1} = [1.5, 2.0]$,\n",
    "so we will only perform one iteration of the above loop\n",
    "\n",
    "Now, let's compute the value for $x_{2}$\n",
    "$$ x_{2} = [1.5, 2.0] - 0.9 * [1.5, 2.0] + 0.1 * ([1.5, 2.0] - [0., 0.]) $$\n",
    "$$ x_{2} = 0.1 * [1.5, 2.0] + 0.1 * [1.5, 2.0] $$\n",
    "$$ x_{2} = [0.3, 0.4] $$\n",
    "\n",
    "return $x_{2} = [0.3, 0.4]$\n",
    "\n",
    "----\n",
    "\n",
    "### Optimiseur de Heavyball (BONUS POUR IFT3395 - BAC)\n",
    "Vous allez implementer l'un des algorithmes d'optimisation les plus utilises en apprentissage automatique.\n",
    "On veut trouver le minimum d'une fonction prenant un parametre $x$ de taille (n,).\n",
    "On mets a jour $x$ avec un pas de gradient plus un terme de _moment_. \n",
    "Clarifions: a l'etape $k$, on a acces a $g_k$, le gradient de la fonction en $x_k$.\n",
    "Alors on mets a jour le parametre $x$ avec la formule:\n",
    "$$x_{k+1} = x_{k} - \\alpha * g_{k} + \\beta * (x_{k} - x_{k-1}),$$\n",
    "ou $\\alpha$ et $\\beta$ sont des hyperparametres de l'algorithme.\n",
    "\n",
    "La fonction ci-dessous prend les arguments\n",
    "\n",
    "* x le parametre initial $x_1$\n",
    "* inputs = $[g_{1}, g_{2},..,g_{t}]$ une liste de gradient pre-calcules.\n",
    "* $\\alpha$ et $\\beta$\n",
    "\n",
    "On vous demande de retourner le parametre final $x_{t+1}$, sous l'hypothese que $x_0=0$.\n",
    "\n",
    "Par exemple, prenons $x = [1.5, 2.0]$, `inputs` = $[[1.5, 2.0]]$, $\\alpha = 0.9$, $\\beta = 0.1$. \n",
    "\n",
    "Dans ce cas, $x_{0} = [0., 0.], x_{1} = [1.5, 2.0]$.\n",
    "\n",
    "La list inputs est de longueur 1, $g_{1} = [1.5, 2.0]$,\n",
    "donc nous allons aire une seule iteration de la boucle.\n",
    "\n",
    "On applique la formule\n",
    "$$ x_{2} = [1.5, 2.0] - 0.9 * [1.5, 2.0] + 0.1 * ([1.5, 2.0] - [0., 0.]) $$\n",
    "$$ x_{2} = 0.1 * [1.5, 2.0] + 0.1 * [1.5, 2.0] $$\n",
    "$$ x_{2} = [0.3, 0.4] $$\n",
    "\n",
    "On renvoie $[0.3, 0.4]$.\n",
    "'''\n",
    "\n",
    "\n",
    "# %%\n",
    "def heavyball_optimizer(x, inputs, alpha=0.9, beta=0.1):\n",
    "    \"\"\"\n",
    "    :param x: np.array of size (n,)\n",
    "    :param inputs: a list of np.arrays of size (n,)\n",
    "    :return: np.array of size (n,)\n",
    "    \"\"\"\n",
    "    pass"
   ]
  },
  {
   "cell_type": "code",
   "execution_count": 16,
   "metadata": {},
   "outputs": [],
   "source": [
    "# %%\n",
    "''' \n",
    "### Machine Learning : Nearest Centroid Classifier\n",
    "\n",
    "You are to implement a nearest centroid classifier for N points in D dimensions\n",
    "with K classes. This is a simple classifier that looks at all the different\n",
    "points in your data and comes up with K centroid points, one for each class.\n",
    "A centroid point is the average of all the points of that class. E.g. In one\n",
    "dimension for some class that has points 0, 1, 5, the centroid point would be\n",
    "at 2.\n",
    "\n",
    "For a new point, the classifier predicts the class whose centroid point is\n",
    "closest to the new point. Use the L2 distance metric (sum of squared distances\n",
    "in each dimension). In case of a tie, the classifier predicts the class with the\n",
    "smaller number (e.g. class 0 over class 1). \n",
    "If there are k classes, then the label y take its value in [0, 1, ..., k-1].  \n",
    "\n",
    "We provide the framework, you must fill in the methods. We've also provided\n",
    "some code for you to be able to test your classifier. We've given a very basic\n",
    "test case but it is up to you to figure out what is the correct performance on\n",
    "this test case.\n",
    "\n",
    "### Apprentissage Automatique : Classificateur du Centroïde le Plus Proche\n",
    "\n",
    "Vous devez implémenter un classificateur du centroïde le plus proche pour\n",
    "N points en D dimensions avec K classes. C'est un classificateur simple qui\n",
    "regarde tout les différents points dans les données et calcule K centroïdes, un pour\n",
    "chaque classe. Le centroïde d'une classe est la moyenne de tout les points de\n",
    "cette classe. E.g. En une dimension, une classe dont les points seraient 0, 1, 5\n",
    "aurait pour centroïde 2.\n",
    "\n",
    "Étant donné un nouveau point, le classificateur lui prédit la classe dont le\n",
    "centroïde est le plus proche de ce point. Utiliser la distance L2 (somme des\n",
    "carrés des distances dans chaque dimension). En cas d'égalité, le classificateur\n",
    "prédit la classe avec le plus petit nombre (e.g. la classe 0 plutôt que 1).\n",
    "Si il y a k classes, alors les valeurs possibles du label y sont [0, 1, ..., k-1].\n",
    "\n",
    "Nous fournissons le squelette, vous devez compléter les fonctions. Nous avons\n",
    "aussi fourni un code pour que vous puissiez tester votre classificateur. Nous\n",
    "avons fourni un exemple de test très simple mais c'est à vous de trouver quelle\n",
    "est la performance attendue sur cet exemple.\n",
    "'''\n",
    "\n",
    "\n",
    "# %%\n",
    "class NearestCentroidClassifier:\n",
    "    def __init__(self, k, d):\n",
    "        \"\"\"Initialize a classifier with k classes in dimension d\n",
    "        Initialise un classificateur avec k classes en dimension d\n",
    "\n",
    "        :param k: int\n",
    "        :param d: int\n",
    "        \"\"\"\n",
    "        self.k = k\n",
    "        self.centroids = np.zeros((k, d))\n",
    "\n",
    "    def fit(self, X, y):  # question A\n",
    "        \"\"\"For each class k, compute the centroid and store it in self.centroids[k]\n",
    "        Pour chaque class k, calcule le centroïde et l'enregistre dans self.centroids[k]\n",
    "\n",
    "        :param X: float np.array of size N x d (each row is a data point / chaque ligne est un point)\n",
    "        :param y: int np.array of size N (class of each data point / classe de chaque point)\n",
    "        \"\"\"\n",
    "\n",
    "        # self.centroids[k] =\n",
    "        pass\n",
    "\n",
    "    def predict(self, X):  # question B\n",
    "        \"\"\"For each data point in the input X, return the predicted class\n",
    "        Pour chaque point de l'entrée X, retourne la classe prédite\n",
    "\n",
    "        :param X: float np.array of size N x d (each row is a data point / chaque ligne est un point)\n",
    "        :return: int np.array of size N (predicted class of each data point / classe prédite pour chaque point)\n",
    "        \"\"\"\n",
    "\n",
    "        # return predictions\n",
    "        pass\n",
    "\n",
    "    def score(self, X, y):  # question C\n",
    "        \"\"\"Compute the average accuracy of your classifier on the data points of input\n",
    "        X with true labels y. That is, predict the class of each data point in X, and\n",
    "        compare the predictions with the true labels y. Return how often your classifier\n",
    "        is correct.\n",
    "        Calcule la précision moyenne de votre classificateur sur les points de l'entrée X\n",
    "        avec les vraies classes y. C'est à dire, prédisez la classe de chaque point de X,\n",
    "        et comparez les prédictions avec les vraies classes y. Retourner avec quelle\n",
    "        fréquence votre classificateur est correct.\n",
    "\n",
    "        :param X: loat np.array of size N x d (each row is a data point / chaque ligne est un point)\n",
    "        :param y: int np.array of size N (true class of each data point / vraie classe de chaque point)\n",
    "        :return: float in [0,1] (success rate / taux de succès)\n",
    "        \"\"\"\n",
    "\n",
    "        # return score\n",
    "        pass"
   ]
  },
  {
   "cell_type": "code",
   "execution_count": 17,
   "metadata": {},
   "outputs": [],
   "source": [
    "class NearestCentroidClassifier:\n",
    "    def __init__(self, k, d):\n",
    "        \"\"\"Initialize a classifier with k classes in dimension d.\"\"\"\n",
    "        self.k = k\n",
    "        self.centroids = np.zeros((k, d))\n",
    "\n",
    "    def fit(self, X, y):  # question A\n",
    "        \"\"\"Compute the centroid of each class, and store it in self.centroids\"\"\"\n",
    "        for i in range(self.k):\n",
    "            self.centroids[i] = np.mean(X[y == i], axis=0)\n",
    "\n",
    "    def predict(self, X):  # question B\n",
    "        \"\"\"Return the predicted class for each row in matrix X\"\"\"\n",
    "        distances = np.sum((X[:, np.newaxis] - self.centroids[np.newaxis, :]) ** 2, axis=2)\n",
    "        return np.argmin(distances, axis=1)\n",
    "\n",
    "    def score(self, X, y):  # question C\n",
    "        \"\"\"Return the accuracy of self on points in X with labels y\"\"\"\n",
    "        return np.mean(self.predict(X) == y)\n"
   ]
  },
  {
   "cell_type": "code",
   "execution_count": null,
   "metadata": {},
   "outputs": [],
   "source": []
  },
  {
   "cell_type": "code",
   "execution_count": 23,
   "metadata": {},
   "outputs": [
    {
     "name": "stdout",
     "output_type": "stream",
     "text": [
      "Your classifier predicted [0 0 0 0 1 1 0]\n",
      "This gives it a score of 0.8571428571428571\n"
     ]
    }
   ],
   "source": [
    "\n",
    "train_points = np.array([[0.], [1.], [5.], [4.], [4.], [4.]])\n",
    "train_labels = np.array([0, 0, 0, 1, 1, 1])\n",
    "\n",
    "test_points = np.array([[0.], [1.], [2.], [3.], [4.], [5.], [0.]])\n",
    "test_labels = np.array([0, 0, 0, 0, 1, 1, 1])\n",
    "\n",
    "k = 2\n",
    "d = 1\n",
    "\n",
    "clf = NearestCentroidClassifier(k, d)\n",
    "clf.fit(train_points, train_labels)\n",
    "predictions = clf.predict(test_points)\n",
    "score = clf.score(test_points, test_labels)\n",
    "print(f'Your classifier predicted {predictions}')\n",
    "print(f'This gives it a score of {score}')"
   ]
  },
  {
   "cell_type": "code",
   "execution_count": 25,
   "metadata": {},
   "outputs": [
    {
     "data": {
      "text/plain": [
       "array([[0.],\n",
       "       [1.],\n",
       "       [5.],\n",
       "       [4.],\n",
       "       [4.],\n",
       "       [4.]])"
      ]
     },
     "execution_count": 25,
     "metadata": {},
     "output_type": "execute_result"
    }
   ],
   "source": [
    "train_points"
   ]
  },
  {
   "cell_type": "code",
   "execution_count": 30,
   "metadata": {},
   "outputs": [
    {
     "data": {
      "text/plain": [
       "array([[0, 0, 0, 1, 1, 1]])"
      ]
     },
     "execution_count": 30,
     "metadata": {},
     "output_type": "execute_result"
    }
   ],
   "source": [
    "train_labels[np.newaxis, :]"
   ]
  },
  {
   "cell_type": "code",
   "execution_count": 28,
   "metadata": {},
   "outputs": [
    {
     "data": {
      "text/plain": [
       "array([2.])"
      ]
     },
     "execution_count": 28,
     "metadata": {},
     "output_type": "execute_result"
    }
   ],
   "source": [
    "np.mean(train_points[train_labels==0], axis=0)"
   ]
  },
  {
   "cell_type": "code",
   "execution_count": null,
   "metadata": {},
   "outputs": [],
   "source": []
  }
 ],
 "metadata": {
  "kernelspec": {
   "display_name": "mila3.7",
   "language": "python",
   "name": "mila3.7"
  },
  "language_info": {
   "codemirror_mode": {
    "name": "ipython",
    "version": 3
   },
   "file_extension": ".py",
   "mimetype": "text/x-python",
   "name": "python",
   "nbconvert_exporter": "python",
   "pygments_lexer": "ipython3",
   "version": "3.7.9"
  }
 },
 "nbformat": 4,
 "nbformat_minor": 4
}
